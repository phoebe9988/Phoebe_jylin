{
  "cells": [
    {
      "cell_type": "code",
      "source": [
        "from IPython.display import HTML, display\n",
        "\n",
        "def set_css():\n",
        "  display(HTML('''\n",
        "  <style>\n",
        "    pre {\n",
        "        white-space: pre-wrap;\n",
        "    }\n",
        "  </style>\n",
        "  '''))\n",
        "get_ipython().events.register('pre_run_cell', set_css)"
      ],
      "metadata": {
        "id": "DT8MXbuM1Rh2",
        "colab": {
          "base_uri": "https://localhost:8080/",
          "height": 17
        },
        "outputId": "4eb0a265-d4d9-42af-81bb-34ec888cd970"
      },
      "execution_count": 26,
      "outputs": [
        {
          "output_type": "display_data",
          "data": {
            "text/plain": [
              "<IPython.core.display.HTML object>"
            ],
            "text/html": [
              "\n",
              "  <style>\n",
              "    pre {\n",
              "        white-space: pre-wrap;\n",
              "    }\n",
              "  </style>\n",
              "  "
            ]
          },
          "metadata": {}
        }
      ]
    },
    {
      "cell_type": "code",
      "source": [
        "from google.colab import drive\n",
        "drive.mount('/content/drive')"
      ],
      "metadata": {
        "colab": {
          "base_uri": "https://localhost:8080/",
          "height": 34
        },
        "id": "w7-Du2esCikV",
        "outputId": "9477c85a-fd7b-4d3f-9865-c6c8258a9ab7"
      },
      "execution_count": 27,
      "outputs": [
        {
          "output_type": "display_data",
          "data": {
            "text/plain": [
              "<IPython.core.display.HTML object>"
            ],
            "text/html": [
              "\n",
              "  <style>\n",
              "    pre {\n",
              "        white-space: pre-wrap;\n",
              "    }\n",
              "  </style>\n",
              "  "
            ]
          },
          "metadata": {}
        },
        {
          "output_type": "display_data",
          "data": {
            "text/plain": [
              "<IPython.core.display.HTML object>"
            ],
            "text/html": [
              "\n",
              "  <style>\n",
              "    pre {\n",
              "        white-space: pre-wrap;\n",
              "    }\n",
              "  </style>\n",
              "  "
            ]
          },
          "metadata": {}
        },
        {
          "output_type": "stream",
          "name": "stdout",
          "text": [
            "Drive already mounted at /content/drive; to attempt to forcibly remount, call drive.mount(\"/content/drive\", force_remount=True).\n"
          ]
        }
      ]
    },
    {
      "cell_type": "code",
      "source": [
        "import locale\n",
        "locale.getpreferredencoding = lambda: \"UTF-8\"\n",
        "!pip3 install contractions"
      ],
      "metadata": {
        "colab": {
          "base_uri": "https://localhost:8080/",
          "height": 104
        },
        "id": "dVtOcrBHCkDJ",
        "outputId": "21750925-cb51-4b57-b321-0780cd29cbc0"
      },
      "execution_count": 28,
      "outputs": [
        {
          "output_type": "display_data",
          "data": {
            "text/plain": [
              "<IPython.core.display.HTML object>"
            ],
            "text/html": [
              "\n",
              "  <style>\n",
              "    pre {\n",
              "        white-space: pre-wrap;\n",
              "    }\n",
              "  </style>\n",
              "  "
            ]
          },
          "metadata": {}
        },
        {
          "output_type": "display_data",
          "data": {
            "text/plain": [
              "<IPython.core.display.HTML object>"
            ],
            "text/html": [
              "\n",
              "  <style>\n",
              "    pre {\n",
              "        white-space: pre-wrap;\n",
              "    }\n",
              "  </style>\n",
              "  "
            ]
          },
          "metadata": {}
        },
        {
          "output_type": "stream",
          "name": "stdout",
          "text": [
            "Looking in indexes: https://pypi.org/simple, https://us-python.pkg.dev/colab-wheels/public/simple/\n",
            "Requirement already satisfied: contractions in /usr/local/lib/python3.9/dist-packages (0.1.73)\n",
            "Requirement already satisfied: textsearch>=0.0.21 in /usr/local/lib/python3.9/dist-packages (from contractions) (0.0.24)\n",
            "Requirement already satisfied: anyascii in /usr/local/lib/python3.9/dist-packages (from textsearch>=0.0.21->contractions) (0.3.2)\n",
            "Requirement already satisfied: pyahocorasick in /usr/local/lib/python3.9/dist-packages (from textsearch>=0.0.21->contractions) (2.0.0)\n"
          ]
        }
      ]
    },
    {
      "cell_type": "code",
      "source": [
        "import pandas as pd\n",
        "import numpy as np\n",
        "import json\n",
        "from nltk.tokenize import sent_tokenize, word_tokenize\n",
        "import nltk\n",
        "nltk.download('punkt')\n",
        "import contractions\n",
        "import spacy\n",
        "nltk.download('stopwords')\n",
        "import matplotlib.pyplot as plt\n",
        "from collections import Counter\n",
        "from nltk.corpus import stopwords\n",
        "from nltk.tokenize import RegexpTokenizer\n",
        "from nltk.stem import PorterStemmer\n",
        "from nltk.stem.wordnet import WordNetLemmatizer\n",
        "from tqdm.auto import tqdm\n",
        "tqdm.pandas(desc = \"Processing Rows\")\n",
        "\n",
        "\n",
        "def data_pre(input_data):\n",
        "    punc = '!\"#$%&\\'()*+,-./:;<=>?@[\\\\]^_`{|}~'\n",
        "    \n",
        "    with open(input_data, \"r\", encoding=\"utf-8\") as f:\n",
        "        d = json.load(f)\n",
        "\n",
        "    metadata = ['article_url', 'comment_count']\n",
        "    df = pd.json_normalize(d['articles'], 'comments', metadata)\n",
        "\n",
        "    data = df.loc[:,['commentID','userID','commentBody','approveDate','recommendations',\n",
        "                     'replyCount','editorsSelection','article_url','comment_count']]\n",
        "    \n",
        "    expanded_text = data['commentBody'].apply(lambda x: \" \".join([contractions.fix(word) for word in x.split()]))\n",
        "    data['commentBody'] = expanded_text\n",
        "    #data[\"commentBody\"] = data[\"commentBody\"].str.lower().str.translate(str.maketrans(\"\", \"\", punc))\n",
        "\n",
        "    splits = df['article_url'].str.split(\"/\")\n",
        "    dates = splits.str[-5] + \"/\" + splits.str[-4] + \"/\" + splits.str[-3]\n",
        "    sections = splits.str[-2]\n",
        "    titles = [' '.join(j) for j in [i.split('-') for i in [sub[: -5] for sub in splits.str[-1]]]]\n",
        "    output = pd.DataFrame({\"Date\": dates, \"Section\": sections, \"Title\": titles})\n",
        "    \n",
        "    return pd.concat([data, output], axis=1)\n"
      ],
      "metadata": {
        "colab": {
          "base_uri": "https://localhost:8080/",
          "height": 86
        },
        "id": "ZkEiOZ3zquRw",
        "outputId": "b72da839-3f4e-4b8e-b0a0-b838181c0477"
      },
      "execution_count": 29,
      "outputs": [
        {
          "output_type": "display_data",
          "data": {
            "text/plain": [
              "<IPython.core.display.HTML object>"
            ],
            "text/html": [
              "\n",
              "  <style>\n",
              "    pre {\n",
              "        white-space: pre-wrap;\n",
              "    }\n",
              "  </style>\n",
              "  "
            ]
          },
          "metadata": {}
        },
        {
          "output_type": "display_data",
          "data": {
            "text/plain": [
              "<IPython.core.display.HTML object>"
            ],
            "text/html": [
              "\n",
              "  <style>\n",
              "    pre {\n",
              "        white-space: pre-wrap;\n",
              "    }\n",
              "  </style>\n",
              "  "
            ]
          },
          "metadata": {}
        },
        {
          "output_type": "stream",
          "name": "stderr",
          "text": [
            "[nltk_data] Downloading package punkt to /root/nltk_data...\n",
            "[nltk_data]   Package punkt is already up-to-date!\n",
            "[nltk_data] Downloading package stopwords to /root/nltk_data...\n",
            "[nltk_data]   Package stopwords is already up-to-date!\n"
          ]
        }
      ]
    },
    {
      "cell_type": "code",
      "source": [],
      "metadata": {
        "id": "L3m6Shqmrdg7"
      },
      "execution_count": 29,
      "outputs": []
    },
    {
      "cell_type": "markdown",
      "source": [
        "## Concatenating Various Data Files"
      ],
      "metadata": {
        "id": "QhqbdEJKrec4"
      }
    },
    {
      "cell_type": "code",
      "source": [
        "data_1=data_pre('/content/drive/MyDrive/STAT427/2013/06/6_1.json')\n",
        "data_2=data_pre('/content/drive/MyDrive/STAT427/2013/06/6_2.json')\n",
        "data_3=data_pre('/content/drive/MyDrive/STAT427/2013/06/6_3.json')\n",
        "data_4=data_pre('/content/drive/MyDrive/STAT427/2013/06/6_4.json')\n",
        "data_5=data_pre('/content/drive/MyDrive/STAT427/2013/06/6_5.json')\n",
        "data_6=data_pre('/content/drive/MyDrive/STAT427/2013/06/6_6.json')\n",
        "data_7=data_pre('/content/drive/MyDrive/STAT427/2013/06/6_7.json')\n",
        "data_8=data_pre('/content/drive/MyDrive/STAT427/2013/06/6_8.json')\n",
        "data_9=data_pre('/content/drive/MyDrive/STAT427/2013/06/6_9.json')\n",
        "\n",
        "data1 = pd.concat([data_1,data_2,data_3,data_4,data_5,data_6,data_7,data_8,data_9], axis=0)\n",
        "print(len(data1))\n",
        "data1.head()"
      ],
      "metadata": {
        "colab": {
          "base_uri": "https://localhost:8080/",
          "height": 389
        },
        "id": "DXhk_cIhq6Mz",
        "outputId": "55597657-a44a-49d7-9e90-ecaabbb26003"
      },
      "execution_count": 30,
      "outputs": [
        {
          "output_type": "display_data",
          "data": {
            "text/plain": [
              "<IPython.core.display.HTML object>"
            ],
            "text/html": [
              "\n",
              "  <style>\n",
              "    pre {\n",
              "        white-space: pre-wrap;\n",
              "    }\n",
              "  </style>\n",
              "  "
            ]
          },
          "metadata": {}
        },
        {
          "output_type": "display_data",
          "data": {
            "text/plain": [
              "<IPython.core.display.HTML object>"
            ],
            "text/html": [
              "\n",
              "  <style>\n",
              "    pre {\n",
              "        white-space: pre-wrap;\n",
              "    }\n",
              "  </style>\n",
              "  "
            ]
          },
          "metadata": {}
        },
        {
          "output_type": "stream",
          "name": "stdout",
          "text": [
            "563\n"
          ]
        },
        {
          "output_type": "execute_result",
          "data": {
            "text/plain": [
              "   commentID    userID                                        commentBody  \\\n",
              "0   10348515  68302733  Did Not realize I was replying to such an pld ...   \n",
              "1   10348466  68302733  Why is it that those who favor the ACA (cough)...   \n",
              "2   10934882  68676589  Coco Chanel said \"Once you have dressed, and b...   \n",
              "3   21868321  61659985  Martha Nussbaum is a philosopher (as is the au...   \n",
              "4   11880086  69423821  it was -i think- a good introduction to politi...   \n",
              "\n",
              "  approveDate  recommendations  replyCount  editorsSelection  \\\n",
              "0  1382630347                0           0             False   \n",
              "1  1382597945                0           0             False   \n",
              "2  1389541582                0           0             False   \n",
              "3  1490033226                0           0             False   \n",
              "4  1401186369                0           0             False   \n",
              "\n",
              "                                         article_url comment_count  \\\n",
              "0  https://krugman.blogs.nytimes.com/2013/06/01/w...             0   \n",
              "1  https://krugman.blogs.nytimes.com/2013/06/01/w...             0   \n",
              "2  https://opinionator.blogs.nytimes.com/2013/06/...             0   \n",
              "3  https://opinionator.blogs.nytimes.com/2013/06/...             0   \n",
              "4  https://opinionator.blogs.nytimes.com/2013/06/...             0   \n",
              "\n",
              "         Date                                            Section Title  \n",
              "0  2013/06/01  we-are-not-having-a-serious-discussion-obamaca...        \n",
              "1  2013/06/01  we-are-not-having-a-serious-discussion-obamaca...        \n",
              "2  2013/06/01         the-myth-of-gatsbys-suffering-middle-class        \n",
              "3  2013/06/01               does-great-literature-make-us-better        \n",
              "4  2013/06/01               does-great-literature-make-us-better        "
            ],
            "text/html": [
              "\n",
              "  <div id=\"df-4da1182e-27a3-4547-a3aa-99c308552399\">\n",
              "    <div class=\"colab-df-container\">\n",
              "      <div>\n",
              "<style scoped>\n",
              "    .dataframe tbody tr th:only-of-type {\n",
              "        vertical-align: middle;\n",
              "    }\n",
              "\n",
              "    .dataframe tbody tr th {\n",
              "        vertical-align: top;\n",
              "    }\n",
              "\n",
              "    .dataframe thead th {\n",
              "        text-align: right;\n",
              "    }\n",
              "</style>\n",
              "<table border=\"1\" class=\"dataframe\">\n",
              "  <thead>\n",
              "    <tr style=\"text-align: right;\">\n",
              "      <th></th>\n",
              "      <th>commentID</th>\n",
              "      <th>userID</th>\n",
              "      <th>commentBody</th>\n",
              "      <th>approveDate</th>\n",
              "      <th>recommendations</th>\n",
              "      <th>replyCount</th>\n",
              "      <th>editorsSelection</th>\n",
              "      <th>article_url</th>\n",
              "      <th>comment_count</th>\n",
              "      <th>Date</th>\n",
              "      <th>Section</th>\n",
              "      <th>Title</th>\n",
              "    </tr>\n",
              "  </thead>\n",
              "  <tbody>\n",
              "    <tr>\n",
              "      <th>0</th>\n",
              "      <td>10348515</td>\n",
              "      <td>68302733</td>\n",
              "      <td>Did Not realize I was replying to such an pld ...</td>\n",
              "      <td>1382630347</td>\n",
              "      <td>0</td>\n",
              "      <td>0</td>\n",
              "      <td>False</td>\n",
              "      <td>https://krugman.blogs.nytimes.com/2013/06/01/w...</td>\n",
              "      <td>0</td>\n",
              "      <td>2013/06/01</td>\n",
              "      <td>we-are-not-having-a-serious-discussion-obamaca...</td>\n",
              "      <td></td>\n",
              "    </tr>\n",
              "    <tr>\n",
              "      <th>1</th>\n",
              "      <td>10348466</td>\n",
              "      <td>68302733</td>\n",
              "      <td>Why is it that those who favor the ACA (cough)...</td>\n",
              "      <td>1382597945</td>\n",
              "      <td>0</td>\n",
              "      <td>0</td>\n",
              "      <td>False</td>\n",
              "      <td>https://krugman.blogs.nytimes.com/2013/06/01/w...</td>\n",
              "      <td>0</td>\n",
              "      <td>2013/06/01</td>\n",
              "      <td>we-are-not-having-a-serious-discussion-obamaca...</td>\n",
              "      <td></td>\n",
              "    </tr>\n",
              "    <tr>\n",
              "      <th>2</th>\n",
              "      <td>10934882</td>\n",
              "      <td>68676589</td>\n",
              "      <td>Coco Chanel said \"Once you have dressed, and b...</td>\n",
              "      <td>1389541582</td>\n",
              "      <td>0</td>\n",
              "      <td>0</td>\n",
              "      <td>False</td>\n",
              "      <td>https://opinionator.blogs.nytimes.com/2013/06/...</td>\n",
              "      <td>0</td>\n",
              "      <td>2013/06/01</td>\n",
              "      <td>the-myth-of-gatsbys-suffering-middle-class</td>\n",
              "      <td></td>\n",
              "    </tr>\n",
              "    <tr>\n",
              "      <th>3</th>\n",
              "      <td>21868321</td>\n",
              "      <td>61659985</td>\n",
              "      <td>Martha Nussbaum is a philosopher (as is the au...</td>\n",
              "      <td>1490033226</td>\n",
              "      <td>0</td>\n",
              "      <td>0</td>\n",
              "      <td>False</td>\n",
              "      <td>https://opinionator.blogs.nytimes.com/2013/06/...</td>\n",
              "      <td>0</td>\n",
              "      <td>2013/06/01</td>\n",
              "      <td>does-great-literature-make-us-better</td>\n",
              "      <td></td>\n",
              "    </tr>\n",
              "    <tr>\n",
              "      <th>4</th>\n",
              "      <td>11880086</td>\n",
              "      <td>69423821</td>\n",
              "      <td>it was -i think- a good introduction to politi...</td>\n",
              "      <td>1401186369</td>\n",
              "      <td>0</td>\n",
              "      <td>0</td>\n",
              "      <td>False</td>\n",
              "      <td>https://opinionator.blogs.nytimes.com/2013/06/...</td>\n",
              "      <td>0</td>\n",
              "      <td>2013/06/01</td>\n",
              "      <td>does-great-literature-make-us-better</td>\n",
              "      <td></td>\n",
              "    </tr>\n",
              "  </tbody>\n",
              "</table>\n",
              "</div>\n",
              "      <button class=\"colab-df-convert\" onclick=\"convertToInteractive('df-4da1182e-27a3-4547-a3aa-99c308552399')\"\n",
              "              title=\"Convert this dataframe to an interactive table.\"\n",
              "              style=\"display:none;\">\n",
              "        \n",
              "  <svg xmlns=\"http://www.w3.org/2000/svg\" height=\"24px\"viewBox=\"0 0 24 24\"\n",
              "       width=\"24px\">\n",
              "    <path d=\"M0 0h24v24H0V0z\" fill=\"none\"/>\n",
              "    <path d=\"M18.56 5.44l.94 2.06.94-2.06 2.06-.94-2.06-.94-.94-2.06-.94 2.06-2.06.94zm-11 1L8.5 8.5l.94-2.06 2.06-.94-2.06-.94L8.5 2.5l-.94 2.06-2.06.94zm10 10l.94 2.06.94-2.06 2.06-.94-2.06-.94-.94-2.06-.94 2.06-2.06.94z\"/><path d=\"M17.41 7.96l-1.37-1.37c-.4-.4-.92-.59-1.43-.59-.52 0-1.04.2-1.43.59L10.3 9.45l-7.72 7.72c-.78.78-.78 2.05 0 2.83L4 21.41c.39.39.9.59 1.41.59.51 0 1.02-.2 1.41-.59l7.78-7.78 2.81-2.81c.8-.78.8-2.07 0-2.86zM5.41 20L4 18.59l7.72-7.72 1.47 1.35L5.41 20z\"/>\n",
              "  </svg>\n",
              "      </button>\n",
              "      \n",
              "  <style>\n",
              "    .colab-df-container {\n",
              "      display:flex;\n",
              "      flex-wrap:wrap;\n",
              "      gap: 12px;\n",
              "    }\n",
              "\n",
              "    .colab-df-convert {\n",
              "      background-color: #E8F0FE;\n",
              "      border: none;\n",
              "      border-radius: 50%;\n",
              "      cursor: pointer;\n",
              "      display: none;\n",
              "      fill: #1967D2;\n",
              "      height: 32px;\n",
              "      padding: 0 0 0 0;\n",
              "      width: 32px;\n",
              "    }\n",
              "\n",
              "    .colab-df-convert:hover {\n",
              "      background-color: #E2EBFA;\n",
              "      box-shadow: 0px 1px 2px rgba(60, 64, 67, 0.3), 0px 1px 3px 1px rgba(60, 64, 67, 0.15);\n",
              "      fill: #174EA6;\n",
              "    }\n",
              "\n",
              "    [theme=dark] .colab-df-convert {\n",
              "      background-color: #3B4455;\n",
              "      fill: #D2E3FC;\n",
              "    }\n",
              "\n",
              "    [theme=dark] .colab-df-convert:hover {\n",
              "      background-color: #434B5C;\n",
              "      box-shadow: 0px 1px 3px 1px rgba(0, 0, 0, 0.15);\n",
              "      filter: drop-shadow(0px 1px 2px rgba(0, 0, 0, 0.3));\n",
              "      fill: #FFFFFF;\n",
              "    }\n",
              "  </style>\n",
              "\n",
              "      <script>\n",
              "        const buttonEl =\n",
              "          document.querySelector('#df-4da1182e-27a3-4547-a3aa-99c308552399 button.colab-df-convert');\n",
              "        buttonEl.style.display =\n",
              "          google.colab.kernel.accessAllowed ? 'block' : 'none';\n",
              "\n",
              "        async function convertToInteractive(key) {\n",
              "          const element = document.querySelector('#df-4da1182e-27a3-4547-a3aa-99c308552399');\n",
              "          const dataTable =\n",
              "            await google.colab.kernel.invokeFunction('convertToInteractive',\n",
              "                                                     [key], {});\n",
              "          if (!dataTable) return;\n",
              "\n",
              "          const docLinkHtml = 'Like what you see? Visit the ' +\n",
              "            '<a target=\"_blank\" href=https://colab.research.google.com/notebooks/data_table.ipynb>data table notebook</a>'\n",
              "            + ' to learn more about interactive tables.';\n",
              "          element.innerHTML = '';\n",
              "          dataTable['output_type'] = 'display_data';\n",
              "          await google.colab.output.renderOutput(dataTable, element);\n",
              "          const docLink = document.createElement('div');\n",
              "          docLink.innerHTML = docLinkHtml;\n",
              "          element.appendChild(docLink);\n",
              "        }\n",
              "      </script>\n",
              "    </div>\n",
              "  </div>\n",
              "  "
            ]
          },
          "metadata": {},
          "execution_count": 30
        }
      ]
    },
    {
      "cell_type": "markdown",
      "metadata": {
        "id": "24mfGXYaChoM"
      },
      "source": [
        "## Creating Single Frequency Word List"
      ]
    },
    {
      "cell_type": "code",
      "execution_count": 31,
      "metadata": {
        "colab": {
          "base_uri": "https://localhost:8080/",
          "height": 69
        },
        "id": "EGmyrZ5hChoN",
        "outputId": "3e42e6bd-598e-4c86-afad-df082184c05f"
      },
      "outputs": [
        {
          "output_type": "display_data",
          "data": {
            "text/plain": [
              "<IPython.core.display.HTML object>"
            ],
            "text/html": [
              "\n",
              "  <style>\n",
              "    pre {\n",
              "        white-space: pre-wrap;\n",
              "    }\n",
              "  </style>\n",
              "  "
            ]
          },
          "metadata": {}
        },
        {
          "output_type": "display_data",
          "data": {
            "text/plain": [
              "<IPython.core.display.HTML object>"
            ],
            "text/html": [
              "\n",
              "  <style>\n",
              "    pre {\n",
              "        white-space: pre-wrap;\n",
              "    }\n",
              "  </style>\n",
              "  "
            ]
          },
          "metadata": {}
        },
        {
          "output_type": "stream",
          "name": "stdout",
          "text": [
            "<class 'str'>\n",
            "The total words in the corpus are:  55527\n",
            "The total number of single frequency words are:  8871\n"
          ]
        }
      ],
      "source": [
        "def single_freq(temp_str):   \n",
        "    str_list = temp_str.split()\n",
        "    frequency = Counter(str_list)\n",
        "    single_freq_words =[]\n",
        "    for word in frequency:\n",
        "        if frequency[word] == 1:\n",
        "            single_freq_words.append(word)\n",
        "    print(\"The total number of single frequency words are: \",len(single_freq_words))\n",
        "    #print(single_freq_words)\n",
        "    return single_freq_words\n",
        "    \n",
        "total_words_before_stem = data1['commentBody'].str.cat(sep=' ')\n",
        "print(type(total_words_before_stem))\n",
        "print(\"The total words in the corpus are: \",len(total_words_before_stem.split()))    \n",
        "single_freq_words = single_freq(total_words_before_stem)"
      ]
    },
    {
      "cell_type": "code",
      "source": [],
      "metadata": {
        "id": "6A-XebvzRlv1"
      },
      "execution_count": 31,
      "outputs": []
    },
    {
      "cell_type": "markdown",
      "metadata": {
        "id": "LDIqBGoZChoO"
      },
      "source": [
        "## Removing Single Frequency Words"
      ]
    },
    {
      "cell_type": "code",
      "execution_count": 32,
      "metadata": {
        "colab": {
          "base_uri": "https://localhost:8080/",
          "height": 617
        },
        "id": "Txf4PV3-ChoO",
        "outputId": "e8957a0c-3fb0-44c6-8370-2a0c35492b9c"
      },
      "outputs": [
        {
          "output_type": "display_data",
          "data": {
            "text/plain": [
              "<IPython.core.display.HTML object>"
            ],
            "text/html": [
              "\n",
              "  <style>\n",
              "    pre {\n",
              "        white-space: pre-wrap;\n",
              "    }\n",
              "  </style>\n",
              "  "
            ]
          },
          "metadata": {}
        },
        {
          "output_type": "display_data",
          "data": {
            "text/plain": [
              "<IPython.core.display.HTML object>"
            ],
            "text/html": [
              "\n",
              "  <style>\n",
              "    pre {\n",
              "        white-space: pre-wrap;\n",
              "    }\n",
              "  </style>\n",
              "  "
            ]
          },
          "metadata": {}
        },
        {
          "output_type": "execute_result",
          "data": {
            "text/plain": [
              "   commentID    userID                                        commentBody  \\\n",
              "0   10348515  68302733  Did Not realize I was replying to such an pld ...   \n",
              "1   10348466  68302733  Why is it that those who favor the ACA (cough)...   \n",
              "2   10934882  68676589  Coco Chanel said \"Once you have dressed, and b...   \n",
              "3   21868321  61659985  Martha Nussbaum is a philosopher (as is the au...   \n",
              "4   11880086  69423821  it was -i think- a good introduction to politi...   \n",
              "\n",
              "  approveDate  recommendations  replyCount  editorsSelection  \\\n",
              "0  1382630347                0           0             False   \n",
              "1  1382597945                0           0             False   \n",
              "2  1389541582                0           0             False   \n",
              "3  1490033226                0           0             False   \n",
              "4  1401186369                0           0             False   \n",
              "\n",
              "                                         article_url comment_count  \\\n",
              "0  https://krugman.blogs.nytimes.com/2013/06/01/w...             0   \n",
              "1  https://krugman.blogs.nytimes.com/2013/06/01/w...             0   \n",
              "2  https://opinionator.blogs.nytimes.com/2013/06/...             0   \n",
              "3  https://opinionator.blogs.nytimes.com/2013/06/...             0   \n",
              "4  https://opinionator.blogs.nytimes.com/2013/06/...             0   \n",
              "\n",
              "         Date                                            Section Title  \\\n",
              "0  2013/06/01  we-are-not-having-a-serious-discussion-obamaca...         \n",
              "1  2013/06/01  we-are-not-having-a-serious-discussion-obamaca...         \n",
              "2  2013/06/01         the-myth-of-gatsbys-suffering-middle-class         \n",
              "3  2013/06/01               does-great-literature-make-us-better         \n",
              "4  2013/06/01               does-great-literature-make-us-better         \n",
              "\n",
              "                               commentBody_processed  \n",
              "0  Did Not realize I was replying to such an pld ...  \n",
              "1  Why is it that those who favor the ACA (cough)...  \n",
              "2  Coco Chanel said \"Once you have dressed, and b...  \n",
              "3  Martha Nussbaum is a philosopher (as is the au...  \n",
              "4  it was -i think- a good introduction to politi...  "
            ],
            "text/html": [
              "\n",
              "  <div id=\"df-3ba07b8d-4efc-44c6-887a-7a61ac916604\">\n",
              "    <div class=\"colab-df-container\">\n",
              "      <div>\n",
              "<style scoped>\n",
              "    .dataframe tbody tr th:only-of-type {\n",
              "        vertical-align: middle;\n",
              "    }\n",
              "\n",
              "    .dataframe tbody tr th {\n",
              "        vertical-align: top;\n",
              "    }\n",
              "\n",
              "    .dataframe thead th {\n",
              "        text-align: right;\n",
              "    }\n",
              "</style>\n",
              "<table border=\"1\" class=\"dataframe\">\n",
              "  <thead>\n",
              "    <tr style=\"text-align: right;\">\n",
              "      <th></th>\n",
              "      <th>commentID</th>\n",
              "      <th>userID</th>\n",
              "      <th>commentBody</th>\n",
              "      <th>approveDate</th>\n",
              "      <th>recommendations</th>\n",
              "      <th>replyCount</th>\n",
              "      <th>editorsSelection</th>\n",
              "      <th>article_url</th>\n",
              "      <th>comment_count</th>\n",
              "      <th>Date</th>\n",
              "      <th>Section</th>\n",
              "      <th>Title</th>\n",
              "      <th>commentBody_processed</th>\n",
              "    </tr>\n",
              "  </thead>\n",
              "  <tbody>\n",
              "    <tr>\n",
              "      <th>0</th>\n",
              "      <td>10348515</td>\n",
              "      <td>68302733</td>\n",
              "      <td>Did Not realize I was replying to such an pld ...</td>\n",
              "      <td>1382630347</td>\n",
              "      <td>0</td>\n",
              "      <td>0</td>\n",
              "      <td>False</td>\n",
              "      <td>https://krugman.blogs.nytimes.com/2013/06/01/w...</td>\n",
              "      <td>0</td>\n",
              "      <td>2013/06/01</td>\n",
              "      <td>we-are-not-having-a-serious-discussion-obamaca...</td>\n",
              "      <td></td>\n",
              "      <td>Did Not realize I was replying to such an pld ...</td>\n",
              "    </tr>\n",
              "    <tr>\n",
              "      <th>1</th>\n",
              "      <td>10348466</td>\n",
              "      <td>68302733</td>\n",
              "      <td>Why is it that those who favor the ACA (cough)...</td>\n",
              "      <td>1382597945</td>\n",
              "      <td>0</td>\n",
              "      <td>0</td>\n",
              "      <td>False</td>\n",
              "      <td>https://krugman.blogs.nytimes.com/2013/06/01/w...</td>\n",
              "      <td>0</td>\n",
              "      <td>2013/06/01</td>\n",
              "      <td>we-are-not-having-a-serious-discussion-obamaca...</td>\n",
              "      <td></td>\n",
              "      <td>Why is it that those who favor the ACA (cough)...</td>\n",
              "    </tr>\n",
              "    <tr>\n",
              "      <th>2</th>\n",
              "      <td>10934882</td>\n",
              "      <td>68676589</td>\n",
              "      <td>Coco Chanel said \"Once you have dressed, and b...</td>\n",
              "      <td>1389541582</td>\n",
              "      <td>0</td>\n",
              "      <td>0</td>\n",
              "      <td>False</td>\n",
              "      <td>https://opinionator.blogs.nytimes.com/2013/06/...</td>\n",
              "      <td>0</td>\n",
              "      <td>2013/06/01</td>\n",
              "      <td>the-myth-of-gatsbys-suffering-middle-class</td>\n",
              "      <td></td>\n",
              "      <td>Coco Chanel said \"Once you have dressed, and b...</td>\n",
              "    </tr>\n",
              "    <tr>\n",
              "      <th>3</th>\n",
              "      <td>21868321</td>\n",
              "      <td>61659985</td>\n",
              "      <td>Martha Nussbaum is a philosopher (as is the au...</td>\n",
              "      <td>1490033226</td>\n",
              "      <td>0</td>\n",
              "      <td>0</td>\n",
              "      <td>False</td>\n",
              "      <td>https://opinionator.blogs.nytimes.com/2013/06/...</td>\n",
              "      <td>0</td>\n",
              "      <td>2013/06/01</td>\n",
              "      <td>does-great-literature-make-us-better</td>\n",
              "      <td></td>\n",
              "      <td>Martha Nussbaum is a philosopher (as is the au...</td>\n",
              "    </tr>\n",
              "    <tr>\n",
              "      <th>4</th>\n",
              "      <td>11880086</td>\n",
              "      <td>69423821</td>\n",
              "      <td>it was -i think- a good introduction to politi...</td>\n",
              "      <td>1401186369</td>\n",
              "      <td>0</td>\n",
              "      <td>0</td>\n",
              "      <td>False</td>\n",
              "      <td>https://opinionator.blogs.nytimes.com/2013/06/...</td>\n",
              "      <td>0</td>\n",
              "      <td>2013/06/01</td>\n",
              "      <td>does-great-literature-make-us-better</td>\n",
              "      <td></td>\n",
              "      <td>it was -i think- a good introduction to politi...</td>\n",
              "    </tr>\n",
              "  </tbody>\n",
              "</table>\n",
              "</div>\n",
              "      <button class=\"colab-df-convert\" onclick=\"convertToInteractive('df-3ba07b8d-4efc-44c6-887a-7a61ac916604')\"\n",
              "              title=\"Convert this dataframe to an interactive table.\"\n",
              "              style=\"display:none;\">\n",
              "        \n",
              "  <svg xmlns=\"http://www.w3.org/2000/svg\" height=\"24px\"viewBox=\"0 0 24 24\"\n",
              "       width=\"24px\">\n",
              "    <path d=\"M0 0h24v24H0V0z\" fill=\"none\"/>\n",
              "    <path d=\"M18.56 5.44l.94 2.06.94-2.06 2.06-.94-2.06-.94-.94-2.06-.94 2.06-2.06.94zm-11 1L8.5 8.5l.94-2.06 2.06-.94-2.06-.94L8.5 2.5l-.94 2.06-2.06.94zm10 10l.94 2.06.94-2.06 2.06-.94-2.06-.94-.94-2.06-.94 2.06-2.06.94z\"/><path d=\"M17.41 7.96l-1.37-1.37c-.4-.4-.92-.59-1.43-.59-.52 0-1.04.2-1.43.59L10.3 9.45l-7.72 7.72c-.78.78-.78 2.05 0 2.83L4 21.41c.39.39.9.59 1.41.59.51 0 1.02-.2 1.41-.59l7.78-7.78 2.81-2.81c.8-.78.8-2.07 0-2.86zM5.41 20L4 18.59l7.72-7.72 1.47 1.35L5.41 20z\"/>\n",
              "  </svg>\n",
              "      </button>\n",
              "      \n",
              "  <style>\n",
              "    .colab-df-container {\n",
              "      display:flex;\n",
              "      flex-wrap:wrap;\n",
              "      gap: 12px;\n",
              "    }\n",
              "\n",
              "    .colab-df-convert {\n",
              "      background-color: #E8F0FE;\n",
              "      border: none;\n",
              "      border-radius: 50%;\n",
              "      cursor: pointer;\n",
              "      display: none;\n",
              "      fill: #1967D2;\n",
              "      height: 32px;\n",
              "      padding: 0 0 0 0;\n",
              "      width: 32px;\n",
              "    }\n",
              "\n",
              "    .colab-df-convert:hover {\n",
              "      background-color: #E2EBFA;\n",
              "      box-shadow: 0px 1px 2px rgba(60, 64, 67, 0.3), 0px 1px 3px 1px rgba(60, 64, 67, 0.15);\n",
              "      fill: #174EA6;\n",
              "    }\n",
              "\n",
              "    [theme=dark] .colab-df-convert {\n",
              "      background-color: #3B4455;\n",
              "      fill: #D2E3FC;\n",
              "    }\n",
              "\n",
              "    [theme=dark] .colab-df-convert:hover {\n",
              "      background-color: #434B5C;\n",
              "      box-shadow: 0px 1px 3px 1px rgba(0, 0, 0, 0.15);\n",
              "      filter: drop-shadow(0px 1px 2px rgba(0, 0, 0, 0.3));\n",
              "      fill: #FFFFFF;\n",
              "    }\n",
              "  </style>\n",
              "\n",
              "      <script>\n",
              "        const buttonEl =\n",
              "          document.querySelector('#df-3ba07b8d-4efc-44c6-887a-7a61ac916604 button.colab-df-convert');\n",
              "        buttonEl.style.display =\n",
              "          google.colab.kernel.accessAllowed ? 'block' : 'none';\n",
              "\n",
              "        async function convertToInteractive(key) {\n",
              "          const element = document.querySelector('#df-3ba07b8d-4efc-44c6-887a-7a61ac916604');\n",
              "          const dataTable =\n",
              "            await google.colab.kernel.invokeFunction('convertToInteractive',\n",
              "                                                     [key], {});\n",
              "          if (!dataTable) return;\n",
              "\n",
              "          const docLinkHtml = 'Like what you see? Visit the ' +\n",
              "            '<a target=\"_blank\" href=https://colab.research.google.com/notebooks/data_table.ipynb>data table notebook</a>'\n",
              "            + ' to learn more about interactive tables.';\n",
              "          element.innerHTML = '';\n",
              "          dataTable['output_type'] = 'display_data';\n",
              "          await google.colab.output.renderOutput(dataTable, element);\n",
              "          const docLink = document.createElement('div');\n",
              "          docLink.innerHTML = docLinkHtml;\n",
              "          element.appendChild(docLink);\n",
              "        }\n",
              "      </script>\n",
              "    </div>\n",
              "  </div>\n",
              "  "
            ]
          },
          "metadata": {},
          "execution_count": 32
        }
      ],
      "source": [
        "from tqdm.auto import tqdm\n",
        "tqdm.pandas(desc = \"Processing Rows\")\n",
        "data1[\"commentBody_processed\"] = data1[\"commentBody\"]\n",
        "data1.head()"
      ]
    },
    {
      "cell_type": "code",
      "source": [
        "\n",
        "total_words_before_stem = data1['commentBody_processed'].str.cat(sep=' ')\n",
        "print(type(total_words_before_stem))\n",
        "print(\"The total words in the corpus after single word removal are: \",len(total_words_before_stem.split()))    \n",
        "single_freq_words = single_freq(total_words_before_stem)"
      ],
      "metadata": {
        "colab": {
          "base_uri": "https://localhost:8080/",
          "height": 69
        },
        "id": "Nxomjtml3vU_",
        "outputId": "1c4df5e7-f3d0-4c36-b3ea-8a1a19bee742"
      },
      "execution_count": 33,
      "outputs": [
        {
          "output_type": "display_data",
          "data": {
            "text/plain": [
              "<IPython.core.display.HTML object>"
            ],
            "text/html": [
              "\n",
              "  <style>\n",
              "    pre {\n",
              "        white-space: pre-wrap;\n",
              "    }\n",
              "  </style>\n",
              "  "
            ]
          },
          "metadata": {}
        },
        {
          "output_type": "display_data",
          "data": {
            "text/plain": [
              "<IPython.core.display.HTML object>"
            ],
            "text/html": [
              "\n",
              "  <style>\n",
              "    pre {\n",
              "        white-space: pre-wrap;\n",
              "    }\n",
              "  </style>\n",
              "  "
            ]
          },
          "metadata": {}
        },
        {
          "output_type": "stream",
          "name": "stdout",
          "text": [
            "<class 'str'>\n",
            "The total words in the corpus after single word removal are:  55527\n",
            "The total number of single frequency words are:  8871\n"
          ]
        }
      ]
    },
    {
      "cell_type": "markdown",
      "source": [
        "## Create 3 different dataframes for C, V and VC."
      ],
      "metadata": {
        "id": "X-BDMjRdy5mM"
      }
    },
    {
      "cell_type": "code",
      "execution_count": 34,
      "metadata": {
        "colab": {
          "base_uri": "https://localhost:8080/",
          "height": 17
        },
        "id": "QEFnlmBjChoQ",
        "outputId": "68c6ea88-1cb2-45e2-aaa7-f781c872f785"
      },
      "outputs": [
        {
          "output_type": "display_data",
          "data": {
            "text/plain": [
              "<IPython.core.display.HTML object>"
            ],
            "text/html": [
              "\n",
              "  <style>\n",
              "    pre {\n",
              "        white-space: pre-wrap;\n",
              "    }\n",
              "  </style>\n",
              "  "
            ]
          },
          "metadata": {}
        },
        {
          "output_type": "display_data",
          "data": {
            "text/plain": [
              "<IPython.core.display.HTML object>"
            ],
            "text/html": [
              "\n",
              "  <style>\n",
              "    pre {\n",
              "        white-space: pre-wrap;\n",
              "    }\n",
              "  </style>\n",
              "  "
            ]
          },
          "metadata": {}
        }
      ],
      "source": [
        "# The 3 different wordlists\n",
        "vaccine_wordlist_lower = [\"booster\",\"antibody\",\"antibodies\",\"antigen\",\"antigenic\",\"antigens\",\"epidemic\",\"herd immunity\",\"injection\",\"inject\",\n",
        "                          \"injector\",\"pcr\",\"injecting\",\"reinject\",\"injections\",\"injects\",\"vaccine\",\"polymerase chain reaction\",\"vax\",\n",
        "                          \"vaccination\",\"vaxxed\",\"vaxxer\",\"vaxify\",\"jab\",\"vaccinate\",\"vaccinates\",\"revaccination\",\"immunity\",\"herd immunization\",\n",
        "                          \"immunization\",\"immunizations\"]\n",
        "\n",
        "covid_wordlist_lower = [\"covid\",\"corona\",\"alpha\",\"beta\",\"gamma\",\"delta\",\"omicron\",\"quarantine\",\"pandemic\",\"lockdown\", \"gamma variant\", \n",
        "                    \"herd immunity\",\"CoV-2\",\"n95\",\"cov19\",\"antibody\",\"antigen\",\"pcr\",\"antiviral\",\"comorbidity\", \"herd immunization\",\n",
        "                    \"myocarditis\",\"shutdown\",\"epidemic\",\"face mask\",\"ventilator\" ,\"community spread\",\"symptomatic\", \"comorbitities\",\n",
        "                    \"covid-19\", \"coronavirus\",\t\"alpha variant\", \"beta variant\", \"beta mutation\", \"beta spike protein\", \"post-symptomatic\",\n",
        "                    \"delta variant\", \"omicron variant\",\t\"quaratined\",\t\"self-quarantine\", \"quarantines\",\"herd immunity\",\t\n",
        "                    \"sars-cov-2\",\t\"antibodies\",\t\"antigenic\", \"antigenictiy\", \"antigens\",\"polymerase chain reaction\", \"comorbid\", \n",
        "                    \"myocardial\",\t\"shutdowns\", \"epidemiology\", \"face masks\", \"ventilation\", \"ventilators\", \"presymptomatic\"]\n",
        "\n",
        "common_wordlist_lower = [\"antibody\",\"epidemic\",\"herd immunity\",\"pcr\", \"antibodies\", \"epidemiology\", \"herd immunization\",\"polymerase chain reaction\"]\n",
        "\n",
        "\n",
        "vaccine_wordlist_capitalize = [vaccine.capitalize() for vaccine in vaccine_wordlist_lower]\n",
        "covid_wordlist_capitalize = [covid.capitalize() for covid in covid_wordlist_lower]\n",
        "common_wordlist_capitalize = [common.capitalize() for common in common_wordlist_lower]\n",
        "\n",
        "vaccine_wordlist_upper = [vaccine.upper() for vaccine in vaccine_wordlist_lower]\n",
        "covid_wordlist_upper = [covid.upper() for covid in covid_wordlist_lower]\n",
        "common_wordlist_upper = [common.upper() for common in common_wordlist_lower]\n",
        "\n",
        "\n",
        "vaccine_wordlist = vaccine_wordlist_lower + vaccine_wordlist_capitalize + vaccine_wordlist_upper\n",
        "covid_wordlist = common_wordlist_lower + common_wordlist_capitalize + common_wordlist_upper\n",
        "common_wordlist = common_wordlist_lower + common_wordlist_capitalize + common_wordlist_upper"
      ]
    },
    {
      "cell_type": "code",
      "source": [],
      "metadata": {
        "id": "RkqWUv1aefgO"
      },
      "execution_count": 34,
      "outputs": []
    },
    {
      "cell_type": "markdown",
      "source": [
        "#### Vaccine_Data\n"
      ],
      "metadata": {
        "id": "kFfYI5Em_Sp1"
      }
    },
    {
      "cell_type": "code",
      "execution_count": 35,
      "metadata": {
        "colab": {
          "base_uri": "https://localhost:8080/",
          "height": 565
        },
        "id": "hmHKkGgGChoR",
        "outputId": "250db19d-15d9-499e-f5fd-abcfa7c000fb"
      },
      "outputs": [
        {
          "output_type": "display_data",
          "data": {
            "text/plain": [
              "<IPython.core.display.HTML object>"
            ],
            "text/html": [
              "\n",
              "  <style>\n",
              "    pre {\n",
              "        white-space: pre-wrap;\n",
              "    }\n",
              "  </style>\n",
              "  "
            ]
          },
          "metadata": {}
        },
        {
          "output_type": "display_data",
          "data": {
            "text/plain": [
              "<IPython.core.display.HTML object>"
            ],
            "text/html": [
              "\n",
              "  <style>\n",
              "    pre {\n",
              "        white-space: pre-wrap;\n",
              "    }\n",
              "  </style>\n",
              "  "
            ]
          },
          "metadata": {}
        },
        {
          "output_type": "stream",
          "name": "stdout",
          "text": [
            "The number of rows in vaccine data is 5\n"
          ]
        },
        {
          "output_type": "execute_result",
          "data": {
            "text/plain": [
              "   commentID    userID                                        commentBody  \\\n",
              "0   22406041  56831107  @Nikos: Before fire, there were no humans. Dai...   \n",
              "1   15124798  72214154  I am so grateful for you getting the word out ...   \n",
              "2   10001697  48098006  Mr. Meier is an unprincipled, ill-informed zea...   \n",
              "3   16515301  73339369  This is absolute propaganda. It just is not un...   \n",
              "4   13024605  59630210  I was a healthy, athletic woman who had the fl...   \n",
              "\n",
              "  approveDate  recommendations  replyCount  editorsSelection  \\\n",
              "0  1494410414                0           0             False   \n",
              "1  1433416318                0           0             False   \n",
              "2  1379419454                8           0             False   \n",
              "3  1446208319                0           0             False   \n",
              "4  1413104775                0           0             False   \n",
              "\n",
              "                                         article_url comment_count  \\\n",
              "0  https://well.blogs.nytimes.com/2013/06/03/micr...             0   \n",
              "1  https://well.blogs.nytimes.com/2013/06/26/the-...             0   \n",
              "2  https://well.blogs.nytimes.com/2013/06/26/the-...             0   \n",
              "3  https://well.blogs.nytimes.com/2013/06/27/stud...             0   \n",
              "4  https://well.blogs.nytimes.com/2013/06/27/stud...             0   \n",
              "\n",
              "         Date                                       Section Title  \\\n",
              "0  2013/06/03                   microsampling-air-pollution         \n",
              "1  2013/06/26                   the-problem-with-pain-pills         \n",
              "2  2013/06/26                   the-problem-with-pain-pills         \n",
              "3  2013/06/27  study-finds-no-vaccine-link-to-guillain-barr         \n",
              "4  2013/06/27  study-finds-no-vaccine-link-to-guillain-barr         \n",
              "\n",
              "                               commentBody_processed  \n",
              "0  @Nikos: Before fire, there were no humans. Dai...  \n",
              "1  I am so grateful for you getting the word out ...  \n",
              "2  Mr. Meier is an unprincipled, ill-informed zea...  \n",
              "3  This is absolute propaganda. It just is not un...  \n",
              "4  I was a healthy, athletic woman who had the fl...  "
            ],
            "text/html": [
              "\n",
              "  <div id=\"df-24137d2b-1cc6-485f-a188-c649280f1d84\">\n",
              "    <div class=\"colab-df-container\">\n",
              "      <div>\n",
              "<style scoped>\n",
              "    .dataframe tbody tr th:only-of-type {\n",
              "        vertical-align: middle;\n",
              "    }\n",
              "\n",
              "    .dataframe tbody tr th {\n",
              "        vertical-align: top;\n",
              "    }\n",
              "\n",
              "    .dataframe thead th {\n",
              "        text-align: right;\n",
              "    }\n",
              "</style>\n",
              "<table border=\"1\" class=\"dataframe\">\n",
              "  <thead>\n",
              "    <tr style=\"text-align: right;\">\n",
              "      <th></th>\n",
              "      <th>commentID</th>\n",
              "      <th>userID</th>\n",
              "      <th>commentBody</th>\n",
              "      <th>approveDate</th>\n",
              "      <th>recommendations</th>\n",
              "      <th>replyCount</th>\n",
              "      <th>editorsSelection</th>\n",
              "      <th>article_url</th>\n",
              "      <th>comment_count</th>\n",
              "      <th>Date</th>\n",
              "      <th>Section</th>\n",
              "      <th>Title</th>\n",
              "      <th>commentBody_processed</th>\n",
              "    </tr>\n",
              "  </thead>\n",
              "  <tbody>\n",
              "    <tr>\n",
              "      <th>0</th>\n",
              "      <td>22406041</td>\n",
              "      <td>56831107</td>\n",
              "      <td>@Nikos: Before fire, there were no humans. Dai...</td>\n",
              "      <td>1494410414</td>\n",
              "      <td>0</td>\n",
              "      <td>0</td>\n",
              "      <td>False</td>\n",
              "      <td>https://well.blogs.nytimes.com/2013/06/03/micr...</td>\n",
              "      <td>0</td>\n",
              "      <td>2013/06/03</td>\n",
              "      <td>microsampling-air-pollution</td>\n",
              "      <td></td>\n",
              "      <td>@Nikos: Before fire, there were no humans. Dai...</td>\n",
              "    </tr>\n",
              "    <tr>\n",
              "      <th>1</th>\n",
              "      <td>15124798</td>\n",
              "      <td>72214154</td>\n",
              "      <td>I am so grateful for you getting the word out ...</td>\n",
              "      <td>1433416318</td>\n",
              "      <td>0</td>\n",
              "      <td>0</td>\n",
              "      <td>False</td>\n",
              "      <td>https://well.blogs.nytimes.com/2013/06/26/the-...</td>\n",
              "      <td>0</td>\n",
              "      <td>2013/06/26</td>\n",
              "      <td>the-problem-with-pain-pills</td>\n",
              "      <td></td>\n",
              "      <td>I am so grateful for you getting the word out ...</td>\n",
              "    </tr>\n",
              "    <tr>\n",
              "      <th>2</th>\n",
              "      <td>10001697</td>\n",
              "      <td>48098006</td>\n",
              "      <td>Mr. Meier is an unprincipled, ill-informed zea...</td>\n",
              "      <td>1379419454</td>\n",
              "      <td>8</td>\n",
              "      <td>0</td>\n",
              "      <td>False</td>\n",
              "      <td>https://well.blogs.nytimes.com/2013/06/26/the-...</td>\n",
              "      <td>0</td>\n",
              "      <td>2013/06/26</td>\n",
              "      <td>the-problem-with-pain-pills</td>\n",
              "      <td></td>\n",
              "      <td>Mr. Meier is an unprincipled, ill-informed zea...</td>\n",
              "    </tr>\n",
              "    <tr>\n",
              "      <th>3</th>\n",
              "      <td>16515301</td>\n",
              "      <td>73339369</td>\n",
              "      <td>This is absolute propaganda. It just is not un...</td>\n",
              "      <td>1446208319</td>\n",
              "      <td>0</td>\n",
              "      <td>0</td>\n",
              "      <td>False</td>\n",
              "      <td>https://well.blogs.nytimes.com/2013/06/27/stud...</td>\n",
              "      <td>0</td>\n",
              "      <td>2013/06/27</td>\n",
              "      <td>study-finds-no-vaccine-link-to-guillain-barr</td>\n",
              "      <td></td>\n",
              "      <td>This is absolute propaganda. It just is not un...</td>\n",
              "    </tr>\n",
              "    <tr>\n",
              "      <th>4</th>\n",
              "      <td>13024605</td>\n",
              "      <td>59630210</td>\n",
              "      <td>I was a healthy, athletic woman who had the fl...</td>\n",
              "      <td>1413104775</td>\n",
              "      <td>0</td>\n",
              "      <td>0</td>\n",
              "      <td>False</td>\n",
              "      <td>https://well.blogs.nytimes.com/2013/06/27/stud...</td>\n",
              "      <td>0</td>\n",
              "      <td>2013/06/27</td>\n",
              "      <td>study-finds-no-vaccine-link-to-guillain-barr</td>\n",
              "      <td></td>\n",
              "      <td>I was a healthy, athletic woman who had the fl...</td>\n",
              "    </tr>\n",
              "  </tbody>\n",
              "</table>\n",
              "</div>\n",
              "      <button class=\"colab-df-convert\" onclick=\"convertToInteractive('df-24137d2b-1cc6-485f-a188-c649280f1d84')\"\n",
              "              title=\"Convert this dataframe to an interactive table.\"\n",
              "              style=\"display:none;\">\n",
              "        \n",
              "  <svg xmlns=\"http://www.w3.org/2000/svg\" height=\"24px\"viewBox=\"0 0 24 24\"\n",
              "       width=\"24px\">\n",
              "    <path d=\"M0 0h24v24H0V0z\" fill=\"none\"/>\n",
              "    <path d=\"M18.56 5.44l.94 2.06.94-2.06 2.06-.94-2.06-.94-.94-2.06-.94 2.06-2.06.94zm-11 1L8.5 8.5l.94-2.06 2.06-.94-2.06-.94L8.5 2.5l-.94 2.06-2.06.94zm10 10l.94 2.06.94-2.06 2.06-.94-2.06-.94-.94-2.06-.94 2.06-2.06.94z\"/><path d=\"M17.41 7.96l-1.37-1.37c-.4-.4-.92-.59-1.43-.59-.52 0-1.04.2-1.43.59L10.3 9.45l-7.72 7.72c-.78.78-.78 2.05 0 2.83L4 21.41c.39.39.9.59 1.41.59.51 0 1.02-.2 1.41-.59l7.78-7.78 2.81-2.81c.8-.78.8-2.07 0-2.86zM5.41 20L4 18.59l7.72-7.72 1.47 1.35L5.41 20z\"/>\n",
              "  </svg>\n",
              "      </button>\n",
              "      \n",
              "  <style>\n",
              "    .colab-df-container {\n",
              "      display:flex;\n",
              "      flex-wrap:wrap;\n",
              "      gap: 12px;\n",
              "    }\n",
              "\n",
              "    .colab-df-convert {\n",
              "      background-color: #E8F0FE;\n",
              "      border: none;\n",
              "      border-radius: 50%;\n",
              "      cursor: pointer;\n",
              "      display: none;\n",
              "      fill: #1967D2;\n",
              "      height: 32px;\n",
              "      padding: 0 0 0 0;\n",
              "      width: 32px;\n",
              "    }\n",
              "\n",
              "    .colab-df-convert:hover {\n",
              "      background-color: #E2EBFA;\n",
              "      box-shadow: 0px 1px 2px rgba(60, 64, 67, 0.3), 0px 1px 3px 1px rgba(60, 64, 67, 0.15);\n",
              "      fill: #174EA6;\n",
              "    }\n",
              "\n",
              "    [theme=dark] .colab-df-convert {\n",
              "      background-color: #3B4455;\n",
              "      fill: #D2E3FC;\n",
              "    }\n",
              "\n",
              "    [theme=dark] .colab-df-convert:hover {\n",
              "      background-color: #434B5C;\n",
              "      box-shadow: 0px 1px 3px 1px rgba(0, 0, 0, 0.15);\n",
              "      filter: drop-shadow(0px 1px 2px rgba(0, 0, 0, 0.3));\n",
              "      fill: #FFFFFF;\n",
              "    }\n",
              "  </style>\n",
              "\n",
              "      <script>\n",
              "        const buttonEl =\n",
              "          document.querySelector('#df-24137d2b-1cc6-485f-a188-c649280f1d84 button.colab-df-convert');\n",
              "        buttonEl.style.display =\n",
              "          google.colab.kernel.accessAllowed ? 'block' : 'none';\n",
              "\n",
              "        async function convertToInteractive(key) {\n",
              "          const element = document.querySelector('#df-24137d2b-1cc6-485f-a188-c649280f1d84');\n",
              "          const dataTable =\n",
              "            await google.colab.kernel.invokeFunction('convertToInteractive',\n",
              "                                                     [key], {});\n",
              "          if (!dataTable) return;\n",
              "\n",
              "          const docLinkHtml = 'Like what you see? Visit the ' +\n",
              "            '<a target=\"_blank\" href=https://colab.research.google.com/notebooks/data_table.ipynb>data table notebook</a>'\n",
              "            + ' to learn more about interactive tables.';\n",
              "          element.innerHTML = '';\n",
              "          dataTable['output_type'] = 'display_data';\n",
              "          await google.colab.output.renderOutput(dataTable, element);\n",
              "          const docLink = document.createElement('div');\n",
              "          docLink.innerHTML = docLinkHtml;\n",
              "          element.appendChild(docLink);\n",
              "        }\n",
              "      </script>\n",
              "    </div>\n",
              "  </div>\n",
              "  "
            ]
          },
          "metadata": {},
          "execution_count": 35
        }
      ],
      "source": [
        "\n",
        "data_vaccine = data1[data1['commentBody_processed'].str.contains('|'.join(vaccine_wordlist))].reset_index(drop=True)\n",
        "print(\"The number of rows in vaccine data is\",len(data_vaccine))\n",
        "data_vaccine.head()"
      ]
    },
    {
      "cell_type": "code",
      "source": [
        "data_vaccine['commentBody'][0]"
      ],
      "metadata": {
        "colab": {
          "base_uri": "https://localhost:8080/",
          "height": 70
        },
        "id": "IbjhGJkYnXGR",
        "outputId": "3bec7491-eea7-4c23-a583-1e4f57572de6"
      },
      "execution_count": 36,
      "outputs": [
        {
          "output_type": "display_data",
          "data": {
            "text/plain": [
              "<IPython.core.display.HTML object>"
            ],
            "text/html": [
              "\n",
              "  <style>\n",
              "    pre {\n",
              "        white-space: pre-wrap;\n",
              "    }\n",
              "  </style>\n",
              "  "
            ]
          },
          "metadata": {}
        },
        {
          "output_type": "display_data",
          "data": {
            "text/plain": [
              "<IPython.core.display.HTML object>"
            ],
            "text/html": [
              "\n",
              "  <style>\n",
              "    pre {\n",
              "        white-space: pre-wrap;\n",
              "    }\n",
              "  </style>\n",
              "  "
            ]
          },
          "metadata": {}
        },
        {
          "output_type": "execute_result",
          "data": {
            "text/plain": [
              "'@Nikos: Before fire, there were no humans. Daily exposure to high air pollution and CO in particular caused the changes in brain<br/> that made us human. Air pollution also desensitizes us to sensory stimuli (like smoking dulls the senses).<br/><br/> The EPA experiment of lowering air pollution to almost nothing<br/>has resulted in epidemic increases in neuro sensitization disorders like asthma and autism. ( epidemics not seen in countries that still have high air pollution.).'"
            ],
            "application/vnd.google.colaboratory.intrinsic+json": {
              "type": "string"
            }
          },
          "metadata": {},
          "execution_count": 36
        }
      ]
    },
    {
      "cell_type": "code",
      "source": [
        "data_vaccine['commentBody'][1]"
      ],
      "metadata": {
        "colab": {
          "base_uri": "https://localhost:8080/",
          "height": 105
        },
        "id": "TewBv9r9ng2T",
        "outputId": "06efed4f-79eb-4e91-c778-cb77c3c28fd1"
      },
      "execution_count": 37,
      "outputs": [
        {
          "output_type": "display_data",
          "data": {
            "text/plain": [
              "<IPython.core.display.HTML object>"
            ],
            "text/html": [
              "\n",
              "  <style>\n",
              "    pre {\n",
              "        white-space: pre-wrap;\n",
              "    }\n",
              "  </style>\n",
              "  "
            ]
          },
          "metadata": {}
        },
        {
          "output_type": "display_data",
          "data": {
            "text/plain": [
              "<IPython.core.display.HTML object>"
            ],
            "text/html": [
              "\n",
              "  <style>\n",
              "    pre {\n",
              "        white-space: pre-wrap;\n",
              "    }\n",
              "  </style>\n",
              "  "
            ]
          },
          "metadata": {}
        },
        {
          "output_type": "execute_result",
          "data": {
            "text/plain": [
              "'I am so grateful for you getting the word out about addicting pain pills. Everything you have written, I have found out to be true. I am a caretaker suffering in silence trying to stand up to the medical community that insists that people need to take these addicting pain pills to stay ahead of the pain. What they have been supporting is addiction and a mountiain of suffering caused by these horrible opiate pills and early, needless death. These addicting pain pills should only be used SHORT TERM otherwise it is defeating their whole purpose. Before my beloved aunt died from an overdose of opiates, she said, this is what the pain pills did to me. She was mentally gone with bruises and abrasions all over her body from falling. She said do not let this happen to you, there is a place way worse than hell and you do not know about it until it happens to you. This epidemic is all around me. Thank you for your efforts to stop this nightmare of stupidity!'"
            ],
            "application/vnd.google.colaboratory.intrinsic+json": {
              "type": "string"
            }
          },
          "metadata": {},
          "execution_count": 37
        }
      ]
    },
    {
      "cell_type": "code",
      "source": [
        "data_vaccine['commentBody'][2]"
      ],
      "metadata": {
        "colab": {
          "base_uri": "https://localhost:8080/",
          "height": 122
        },
        "id": "nU5QskMlnrxv",
        "outputId": "cfbbb8d6-4144-4db7-a05b-46579a98ec43"
      },
      "execution_count": 38,
      "outputs": [
        {
          "output_type": "display_data",
          "data": {
            "text/plain": [
              "<IPython.core.display.HTML object>"
            ],
            "text/html": [
              "\n",
              "  <style>\n",
              "    pre {\n",
              "        white-space: pre-wrap;\n",
              "    }\n",
              "  </style>\n",
              "  "
            ]
          },
          "metadata": {}
        },
        {
          "output_type": "display_data",
          "data": {
            "text/plain": [
              "<IPython.core.display.HTML object>"
            ],
            "text/html": [
              "\n",
              "  <style>\n",
              "    pre {\n",
              "        white-space: pre-wrap;\n",
              "    }\n",
              "  </style>\n",
              "  "
            ]
          },
          "metadata": {}
        },
        {
          "output_type": "execute_result",
          "data": {
            "text/plain": [
              "\"Mr. Meier is an unprincipled, ill-informed zealot, who believes that opioids are inherently bad &amp; should be withheld from patients with chronic pain, regardless of consequences. To support his contention, Meier scours medical &amp; popular literature for snippets of information, anecdotes, opinions, isolated clinical &amp; laboratory studies, then uses these to concoct his meretricious arguments.<br/>Consider “Opioid Induced Hyperalgesia” (OIH). Meier implies that this is an inevitable consequence of opioid treatment, yet there is absolutely no convincing evidence for this. As other readers note, most of the meager data on OIH comes from animal studies &amp; even these provide little support for Meier's claims. Researchers who study OIH admit that they have no idea of its prevalence among chronic pain patients &amp; that it is difficult or impossible to distinguish OIH from habituation.<br/>I am 67. For nearly 20 years I have relied on Oxycodone/Oxycontin to relieve my otherwise intractable back pain. Except for surgery, which most specialists recommend I avoid, I have tried virtually every known therapy, including countless injections, manipulations, &amp; alternative methods. Nothing works except the opioids, which in sufficient dosage turn off my pain like a light switch. I have never had an adverse reaction. From my point of view Meier is a reckless &amp; callous madman, who would deprive me of the one thing that enables me to lead a normal life. He is dangerous &amp; no one should believe anything he says.\""
            ],
            "application/vnd.google.colaboratory.intrinsic+json": {
              "type": "string"
            }
          },
          "metadata": {},
          "execution_count": 38
        }
      ]
    },
    {
      "cell_type": "code",
      "source": [
        "data_vaccine['commentBody'][3]"
      ],
      "metadata": {
        "colab": {
          "base_uri": "https://localhost:8080/",
          "height": 105
        },
        "id": "wa6qpfaMnvtW",
        "outputId": "0ba21997-69f9-43ad-acd4-af1c4014dfb6"
      },
      "execution_count": 39,
      "outputs": [
        {
          "output_type": "display_data",
          "data": {
            "text/plain": [
              "<IPython.core.display.HTML object>"
            ],
            "text/html": [
              "\n",
              "  <style>\n",
              "    pre {\n",
              "        white-space: pre-wrap;\n",
              "    }\n",
              "  </style>\n",
              "  "
            ]
          },
          "metadata": {}
        },
        {
          "output_type": "display_data",
          "data": {
            "text/plain": [
              "<IPython.core.display.HTML object>"
            ],
            "text/html": [
              "\n",
              "  <style>\n",
              "    pre {\n",
              "        white-space: pre-wrap;\n",
              "    }\n",
              "  </style>\n",
              "  "
            ]
          },
          "metadata": {}
        },
        {
          "output_type": "execute_result",
          "data": {
            "text/plain": [
              "'This is absolute propaganda. It just is not untrue. Statistics released in March, 2014 by the YOU.S. Department of Health and Human Services revealed that the flu vaccine remains the top vaccine causing injuries which are being compensated through vaccine court, and that Guillain-Barré Syndrome, a crippling disease, remains the top injury being awarded compensation due to the seasonal flu vaccine. guillain-Barre syndrome is also listed as a \"side effect\" on most vaccine inserts. The epidemic of this particular syndrome has shot up so much in recent years from these erm, unknown \"triggers\", that they are considering revising the figures of incidence from 1 in 100,000 to 1 in 50,000. Just goes to show how much faith we should give to any study, they are politically motivated to say vaccines are safe when they are not.'"
            ],
            "application/vnd.google.colaboratory.intrinsic+json": {
              "type": "string"
            }
          },
          "metadata": {},
          "execution_count": 39
        }
      ]
    },
    {
      "cell_type": "code",
      "source": [
        "data_vaccine['commentBody'][4]"
      ],
      "metadata": {
        "colab": {
          "base_uri": "https://localhost:8080/",
          "height": 122
        },
        "id": "Ze_5CY98n1rK",
        "outputId": "81a7bdd8-bd69-47ba-d30b-ff093c26d27e"
      },
      "execution_count": 40,
      "outputs": [
        {
          "output_type": "display_data",
          "data": {
            "text/plain": [
              "<IPython.core.display.HTML object>"
            ],
            "text/html": [
              "\n",
              "  <style>\n",
              "    pre {\n",
              "        white-space: pre-wrap;\n",
              "    }\n",
              "  </style>\n",
              "  "
            ]
          },
          "metadata": {}
        },
        {
          "output_type": "display_data",
          "data": {
            "text/plain": [
              "<IPython.core.display.HTML object>"
            ],
            "text/html": [
              "\n",
              "  <style>\n",
              "    pre {\n",
              "        white-space: pre-wrap;\n",
              "    }\n",
              "  </style>\n",
              "  "
            ]
          },
          "metadata": {}
        },
        {
          "output_type": "execute_result",
          "data": {
            "text/plain": [
              "'I was a healthy, athletic woman who had the flu once. Two weeks after my second flu shot ever at age 52, I had abrupt onset of intense burning pain that went through my shoulder, down my arm and into my right hand. I had no injury, trauma or fall. My right pectoral muscle fibrillated uncontrollably during the attack. The pain lasted a few weeks, treated with oral steroids. Within a few days I developed severe weakness of my right shoulder, arm and hand, atrophy of my right triceps and right serratus anterior muscle, and a \"winged scapula\". One year later, I could not lift my right arm up, using my left arm to lift it up several times a day, to prevent \"frozen shoulder\". 18 months later my shoulder range of motion returned but I still have weakness and stiffness. Diagnosis: brachial neuritis, AKA Parsonage Turner Syndrome, neuralgic amyotrophy or brachial plexopathy - from the vaccine. <br/><br/>20 months later, persistent numbness of my right hand/fingers/thumb. My fingers are weak/stiff. The muscles in the palm feel \"pulled\", tight and uncomfortable. I cannot use a mouse. Recovery can take 2 years, and in many cases, 3 or more years. Many never fully recover and are left with permanent deficits. I remain hopeful but guarded.<br/><br/>I am an R.N. but I no longer work directly with patients. When I was a hospital R.N. working with patients (80\\'s - 90\\'s), flu shots were NOT mandated.<br/>The current hype and hysteria around flu vaccination is unfortunate.'"
            ],
            "application/vnd.google.colaboratory.intrinsic+json": {
              "type": "string"
            }
          },
          "metadata": {},
          "execution_count": 40
        }
      ]
    },
    {
      "cell_type": "code",
      "source": [],
      "metadata": {
        "id": "OA7cziNPo2Vd"
      },
      "execution_count": 40,
      "outputs": []
    },
    {
      "cell_type": "code",
      "source": [],
      "metadata": {
        "id": "k4ehevhxnbZ4"
      },
      "execution_count": 40,
      "outputs": []
    },
    {
      "cell_type": "markdown",
      "source": [
        "#### Covid Data\n"
      ],
      "metadata": {
        "id": "1gkYUDiU_PA9"
      }
    },
    {
      "cell_type": "code",
      "execution_count": 41,
      "metadata": {
        "colab": {
          "base_uri": "https://localhost:8080/",
          "height": 482
        },
        "id": "qPWKs20nChoR",
        "outputId": "10e8b330-fd20-453c-8a1e-f7a001f651f5"
      },
      "outputs": [
        {
          "output_type": "display_data",
          "data": {
            "text/plain": [
              "<IPython.core.display.HTML object>"
            ],
            "text/html": [
              "\n",
              "  <style>\n",
              "    pre {\n",
              "        white-space: pre-wrap;\n",
              "    }\n",
              "  </style>\n",
              "  "
            ]
          },
          "metadata": {}
        },
        {
          "output_type": "display_data",
          "data": {
            "text/plain": [
              "<IPython.core.display.HTML object>"
            ],
            "text/html": [
              "\n",
              "  <style>\n",
              "    pre {\n",
              "        white-space: pre-wrap;\n",
              "    }\n",
              "  </style>\n",
              "  "
            ]
          },
          "metadata": {}
        },
        {
          "output_type": "stream",
          "name": "stdout",
          "text": [
            "The number of rows in vaccine data is 4\n"
          ]
        },
        {
          "output_type": "execute_result",
          "data": {
            "text/plain": [
              "   commentID    userID                                        commentBody  \\\n",
              "0   22406041  56831107  @Nikos: Before fire, there were no humans. Dai...   \n",
              "1   15124798  72214154  I am so grateful for you getting the word out ...   \n",
              "2   10078110  68176225  Nurse practitioners are highly educated health...   \n",
              "3   16515301  73339369  This is absolute propaganda. It just is not un...   \n",
              "\n",
              "  approveDate  recommendations  replyCount  editorsSelection  \\\n",
              "0  1494410414                0           0             False   \n",
              "1  1433416318                0           0             False   \n",
              "2  1380121862                2           0             False   \n",
              "3  1446208319                0           0             False   \n",
              "\n",
              "                                         article_url comment_count  \\\n",
              "0  https://well.blogs.nytimes.com/2013/06/03/micr...             0   \n",
              "1  https://well.blogs.nytimes.com/2013/06/26/the-...             0   \n",
              "2  https://well.blogs.nytimes.com/2013/06/27/the-...             0   \n",
              "3  https://well.blogs.nytimes.com/2013/06/27/stud...             0   \n",
              "\n",
              "         Date                                           Section Title  \\\n",
              "0  2013/06/03                       microsampling-air-pollution         \n",
              "1  2013/06/26                       the-problem-with-pain-pills         \n",
              "2  2013/06/27  the-gulf-between-doctors-and-nurse-practitioners         \n",
              "3  2013/06/27      study-finds-no-vaccine-link-to-guillain-barr         \n",
              "\n",
              "                               commentBody_processed  \n",
              "0  @Nikos: Before fire, there were no humans. Dai...  \n",
              "1  I am so grateful for you getting the word out ...  \n",
              "2  Nurse practitioners are highly educated health...  \n",
              "3  This is absolute propaganda. It just is not un...  "
            ],
            "text/html": [
              "\n",
              "  <div id=\"df-5b9732e1-ecfc-4d0d-b36c-bafb564c2f02\">\n",
              "    <div class=\"colab-df-container\">\n",
              "      <div>\n",
              "<style scoped>\n",
              "    .dataframe tbody tr th:only-of-type {\n",
              "        vertical-align: middle;\n",
              "    }\n",
              "\n",
              "    .dataframe tbody tr th {\n",
              "        vertical-align: top;\n",
              "    }\n",
              "\n",
              "    .dataframe thead th {\n",
              "        text-align: right;\n",
              "    }\n",
              "</style>\n",
              "<table border=\"1\" class=\"dataframe\">\n",
              "  <thead>\n",
              "    <tr style=\"text-align: right;\">\n",
              "      <th></th>\n",
              "      <th>commentID</th>\n",
              "      <th>userID</th>\n",
              "      <th>commentBody</th>\n",
              "      <th>approveDate</th>\n",
              "      <th>recommendations</th>\n",
              "      <th>replyCount</th>\n",
              "      <th>editorsSelection</th>\n",
              "      <th>article_url</th>\n",
              "      <th>comment_count</th>\n",
              "      <th>Date</th>\n",
              "      <th>Section</th>\n",
              "      <th>Title</th>\n",
              "      <th>commentBody_processed</th>\n",
              "    </tr>\n",
              "  </thead>\n",
              "  <tbody>\n",
              "    <tr>\n",
              "      <th>0</th>\n",
              "      <td>22406041</td>\n",
              "      <td>56831107</td>\n",
              "      <td>@Nikos: Before fire, there were no humans. Dai...</td>\n",
              "      <td>1494410414</td>\n",
              "      <td>0</td>\n",
              "      <td>0</td>\n",
              "      <td>False</td>\n",
              "      <td>https://well.blogs.nytimes.com/2013/06/03/micr...</td>\n",
              "      <td>0</td>\n",
              "      <td>2013/06/03</td>\n",
              "      <td>microsampling-air-pollution</td>\n",
              "      <td></td>\n",
              "      <td>@Nikos: Before fire, there were no humans. Dai...</td>\n",
              "    </tr>\n",
              "    <tr>\n",
              "      <th>1</th>\n",
              "      <td>15124798</td>\n",
              "      <td>72214154</td>\n",
              "      <td>I am so grateful for you getting the word out ...</td>\n",
              "      <td>1433416318</td>\n",
              "      <td>0</td>\n",
              "      <td>0</td>\n",
              "      <td>False</td>\n",
              "      <td>https://well.blogs.nytimes.com/2013/06/26/the-...</td>\n",
              "      <td>0</td>\n",
              "      <td>2013/06/26</td>\n",
              "      <td>the-problem-with-pain-pills</td>\n",
              "      <td></td>\n",
              "      <td>I am so grateful for you getting the word out ...</td>\n",
              "    </tr>\n",
              "    <tr>\n",
              "      <th>2</th>\n",
              "      <td>10078110</td>\n",
              "      <td>68176225</td>\n",
              "      <td>Nurse practitioners are highly educated health...</td>\n",
              "      <td>1380121862</td>\n",
              "      <td>2</td>\n",
              "      <td>0</td>\n",
              "      <td>False</td>\n",
              "      <td>https://well.blogs.nytimes.com/2013/06/27/the-...</td>\n",
              "      <td>0</td>\n",
              "      <td>2013/06/27</td>\n",
              "      <td>the-gulf-between-doctors-and-nurse-practitioners</td>\n",
              "      <td></td>\n",
              "      <td>Nurse practitioners are highly educated health...</td>\n",
              "    </tr>\n",
              "    <tr>\n",
              "      <th>3</th>\n",
              "      <td>16515301</td>\n",
              "      <td>73339369</td>\n",
              "      <td>This is absolute propaganda. It just is not un...</td>\n",
              "      <td>1446208319</td>\n",
              "      <td>0</td>\n",
              "      <td>0</td>\n",
              "      <td>False</td>\n",
              "      <td>https://well.blogs.nytimes.com/2013/06/27/stud...</td>\n",
              "      <td>0</td>\n",
              "      <td>2013/06/27</td>\n",
              "      <td>study-finds-no-vaccine-link-to-guillain-barr</td>\n",
              "      <td></td>\n",
              "      <td>This is absolute propaganda. It just is not un...</td>\n",
              "    </tr>\n",
              "  </tbody>\n",
              "</table>\n",
              "</div>\n",
              "      <button class=\"colab-df-convert\" onclick=\"convertToInteractive('df-5b9732e1-ecfc-4d0d-b36c-bafb564c2f02')\"\n",
              "              title=\"Convert this dataframe to an interactive table.\"\n",
              "              style=\"display:none;\">\n",
              "        \n",
              "  <svg xmlns=\"http://www.w3.org/2000/svg\" height=\"24px\"viewBox=\"0 0 24 24\"\n",
              "       width=\"24px\">\n",
              "    <path d=\"M0 0h24v24H0V0z\" fill=\"none\"/>\n",
              "    <path d=\"M18.56 5.44l.94 2.06.94-2.06 2.06-.94-2.06-.94-.94-2.06-.94 2.06-2.06.94zm-11 1L8.5 8.5l.94-2.06 2.06-.94-2.06-.94L8.5 2.5l-.94 2.06-2.06.94zm10 10l.94 2.06.94-2.06 2.06-.94-2.06-.94-.94-2.06-.94 2.06-2.06.94z\"/><path d=\"M17.41 7.96l-1.37-1.37c-.4-.4-.92-.59-1.43-.59-.52 0-1.04.2-1.43.59L10.3 9.45l-7.72 7.72c-.78.78-.78 2.05 0 2.83L4 21.41c.39.39.9.59 1.41.59.51 0 1.02-.2 1.41-.59l7.78-7.78 2.81-2.81c.8-.78.8-2.07 0-2.86zM5.41 20L4 18.59l7.72-7.72 1.47 1.35L5.41 20z\"/>\n",
              "  </svg>\n",
              "      </button>\n",
              "      \n",
              "  <style>\n",
              "    .colab-df-container {\n",
              "      display:flex;\n",
              "      flex-wrap:wrap;\n",
              "      gap: 12px;\n",
              "    }\n",
              "\n",
              "    .colab-df-convert {\n",
              "      background-color: #E8F0FE;\n",
              "      border: none;\n",
              "      border-radius: 50%;\n",
              "      cursor: pointer;\n",
              "      display: none;\n",
              "      fill: #1967D2;\n",
              "      height: 32px;\n",
              "      padding: 0 0 0 0;\n",
              "      width: 32px;\n",
              "    }\n",
              "\n",
              "    .colab-df-convert:hover {\n",
              "      background-color: #E2EBFA;\n",
              "      box-shadow: 0px 1px 2px rgba(60, 64, 67, 0.3), 0px 1px 3px 1px rgba(60, 64, 67, 0.15);\n",
              "      fill: #174EA6;\n",
              "    }\n",
              "\n",
              "    [theme=dark] .colab-df-convert {\n",
              "      background-color: #3B4455;\n",
              "      fill: #D2E3FC;\n",
              "    }\n",
              "\n",
              "    [theme=dark] .colab-df-convert:hover {\n",
              "      background-color: #434B5C;\n",
              "      box-shadow: 0px 1px 3px 1px rgba(0, 0, 0, 0.15);\n",
              "      filter: drop-shadow(0px 1px 2px rgba(0, 0, 0, 0.3));\n",
              "      fill: #FFFFFF;\n",
              "    }\n",
              "  </style>\n",
              "\n",
              "      <script>\n",
              "        const buttonEl =\n",
              "          document.querySelector('#df-5b9732e1-ecfc-4d0d-b36c-bafb564c2f02 button.colab-df-convert');\n",
              "        buttonEl.style.display =\n",
              "          google.colab.kernel.accessAllowed ? 'block' : 'none';\n",
              "\n",
              "        async function convertToInteractive(key) {\n",
              "          const element = document.querySelector('#df-5b9732e1-ecfc-4d0d-b36c-bafb564c2f02');\n",
              "          const dataTable =\n",
              "            await google.colab.kernel.invokeFunction('convertToInteractive',\n",
              "                                                     [key], {});\n",
              "          if (!dataTable) return;\n",
              "\n",
              "          const docLinkHtml = 'Like what you see? Visit the ' +\n",
              "            '<a target=\"_blank\" href=https://colab.research.google.com/notebooks/data_table.ipynb>data table notebook</a>'\n",
              "            + ' to learn more about interactive tables.';\n",
              "          element.innerHTML = '';\n",
              "          dataTable['output_type'] = 'display_data';\n",
              "          await google.colab.output.renderOutput(dataTable, element);\n",
              "          const docLink = document.createElement('div');\n",
              "          docLink.innerHTML = docLinkHtml;\n",
              "          element.appendChild(docLink);\n",
              "        }\n",
              "      </script>\n",
              "    </div>\n",
              "  </div>\n",
              "  "
            ]
          },
          "metadata": {},
          "execution_count": 41
        }
      ],
      "source": [
        "\n",
        "data_covid = data1[data1['commentBody_processed'].str.contains('|'.join(covid_wordlist))].reset_index(drop=True)\n",
        "print(\"The number of rows in vaccine data is\",len(data_covid))\n",
        "data_covid.head()"
      ]
    },
    {
      "cell_type": "code",
      "source": [
        "data_covid['commentBody'][0]"
      ],
      "metadata": {
        "colab": {
          "base_uri": "https://localhost:8080/",
          "height": 70
        },
        "id": "4wubSgI1pAy5",
        "outputId": "af3f6b63-57a5-4376-9bbb-fdb521c8133a"
      },
      "execution_count": 42,
      "outputs": [
        {
          "output_type": "display_data",
          "data": {
            "text/plain": [
              "<IPython.core.display.HTML object>"
            ],
            "text/html": [
              "\n",
              "  <style>\n",
              "    pre {\n",
              "        white-space: pre-wrap;\n",
              "    }\n",
              "  </style>\n",
              "  "
            ]
          },
          "metadata": {}
        },
        {
          "output_type": "display_data",
          "data": {
            "text/plain": [
              "<IPython.core.display.HTML object>"
            ],
            "text/html": [
              "\n",
              "  <style>\n",
              "    pre {\n",
              "        white-space: pre-wrap;\n",
              "    }\n",
              "  </style>\n",
              "  "
            ]
          },
          "metadata": {}
        },
        {
          "output_type": "execute_result",
          "data": {
            "text/plain": [
              "'@Nikos: Before fire, there were no humans. Daily exposure to high air pollution and CO in particular caused the changes in brain<br/> that made us human. Air pollution also desensitizes us to sensory stimuli (like smoking dulls the senses).<br/><br/> The EPA experiment of lowering air pollution to almost nothing<br/>has resulted in epidemic increases in neuro sensitization disorders like asthma and autism. ( epidemics not seen in countries that still have high air pollution.).'"
            ],
            "application/vnd.google.colaboratory.intrinsic+json": {
              "type": "string"
            }
          },
          "metadata": {},
          "execution_count": 42
        }
      ]
    },
    {
      "cell_type": "code",
      "source": [
        "data_covid['commentBody'][1]"
      ],
      "metadata": {
        "colab": {
          "base_uri": "https://localhost:8080/",
          "height": 105
        },
        "id": "ritlGBrSpEcJ",
        "outputId": "7d71dd71-267f-4955-ce3e-02922f4bb08f"
      },
      "execution_count": 43,
      "outputs": [
        {
          "output_type": "display_data",
          "data": {
            "text/plain": [
              "<IPython.core.display.HTML object>"
            ],
            "text/html": [
              "\n",
              "  <style>\n",
              "    pre {\n",
              "        white-space: pre-wrap;\n",
              "    }\n",
              "  </style>\n",
              "  "
            ]
          },
          "metadata": {}
        },
        {
          "output_type": "display_data",
          "data": {
            "text/plain": [
              "<IPython.core.display.HTML object>"
            ],
            "text/html": [
              "\n",
              "  <style>\n",
              "    pre {\n",
              "        white-space: pre-wrap;\n",
              "    }\n",
              "  </style>\n",
              "  "
            ]
          },
          "metadata": {}
        },
        {
          "output_type": "execute_result",
          "data": {
            "text/plain": [
              "'I am so grateful for you getting the word out about addicting pain pills. Everything you have written, I have found out to be true. I am a caretaker suffering in silence trying to stand up to the medical community that insists that people need to take these addicting pain pills to stay ahead of the pain. What they have been supporting is addiction and a mountiain of suffering caused by these horrible opiate pills and early, needless death. These addicting pain pills should only be used SHORT TERM otherwise it is defeating their whole purpose. Before my beloved aunt died from an overdose of opiates, she said, this is what the pain pills did to me. She was mentally gone with bruises and abrasions all over her body from falling. She said do not let this happen to you, there is a place way worse than hell and you do not know about it until it happens to you. This epidemic is all around me. Thank you for your efforts to stop this nightmare of stupidity!'"
            ],
            "application/vnd.google.colaboratory.intrinsic+json": {
              "type": "string"
            }
          },
          "metadata": {},
          "execution_count": 43
        }
      ]
    },
    {
      "cell_type": "code",
      "source": [
        "data_covid['commentBody'][2]"
      ],
      "metadata": {
        "colab": {
          "base_uri": "https://localhost:8080/",
          "height": 122
        },
        "id": "k0iDGPaNpGIQ",
        "outputId": "943ac6e5-207d-43e9-8b28-62ff4b2c2f22"
      },
      "execution_count": 44,
      "outputs": [
        {
          "output_type": "display_data",
          "data": {
            "text/plain": [
              "<IPython.core.display.HTML object>"
            ],
            "text/html": [
              "\n",
              "  <style>\n",
              "    pre {\n",
              "        white-space: pre-wrap;\n",
              "    }\n",
              "  </style>\n",
              "  "
            ]
          },
          "metadata": {}
        },
        {
          "output_type": "display_data",
          "data": {
            "text/plain": [
              "<IPython.core.display.HTML object>"
            ],
            "text/html": [
              "\n",
              "  <style>\n",
              "    pre {\n",
              "        white-space: pre-wrap;\n",
              "    }\n",
              "  </style>\n",
              "  "
            ]
          },
          "metadata": {}
        },
        {
          "output_type": "execute_result",
          "data": {
            "text/plain": [
              "'Nurse practitioners are highly educated health care providers. I have posted below the \"core courses\" in the ACNP curriculum:<br/><br/>1. Prerequisites- BSN Admissions: (GPA must be &gt;3.5 in prerequisites to apply)<br/>Organic Chemistry, Biochemistry, Statistics, Nutrition, Psychology, Sociology, Cultural Anthropology, Developmental Psych, Life-Span Human Growth and Development, Human Anatomy, Human Physiology &amp; Lab, Biology, Clinical Microbiology &amp; Lab.<br/><br/>2. BSN (4 years):<br/>Med/Surg Didactic &amp; Clinical, Health Assessment &amp; Lab, Med/Surg Didactic II &amp; Clinical , Clinical Lab, Human Pathophysiology, Pharmacology, OB &amp; Clinical, Adult Health/Gero I Didactic &amp; Clinical, Psych/Mental Didactic &amp; Clinical, Research, Adult Health/Gero II Didactic &amp; Clinical, Community Health &amp; Clinical, Ethics.<br/><br/>3. MSN ANCP Courses: (2-3 years)<br/>Adult Acute Care Theory I, Strategy &amp; Health, Advanced Pharmacology (P695 &amp; P660), Policy &amp; Health Care, Graduate Research, Graduate Statistics, Advanced Physiology &amp; Pathophysiology, Advanced Health Assessment Lab/Lab Models, APRN Role/Negotiating, Adult/Gero Acute Care Didactic I &amp; Clinical, Adult/Gero Acute Care Didactic II &amp; Clinical, Adult/Gero Acute Care Didactic III &amp; Clinical, 699 Thesis Project.<br/><br/>4. DNP Courses: (1-2 years)<br/>Graduate Statistics (800), Epidemiology (802), Scientific Foundations, Health Informatics, Clinical Leadership, Quality &amp; Safety Improvement, Policy Analysis, Thesis/Capstone Defense, Implementation Science (N900), DNP Residency, DNP Capstone'"
            ],
            "application/vnd.google.colaboratory.intrinsic+json": {
              "type": "string"
            }
          },
          "metadata": {},
          "execution_count": 44
        }
      ]
    },
    {
      "cell_type": "code",
      "source": [],
      "metadata": {
        "id": "ENXylalKpJcA"
      },
      "execution_count": 44,
      "outputs": []
    },
    {
      "cell_type": "markdown",
      "source": [
        "#### Covid + Vaccine Data\n",
        "\n"
      ],
      "metadata": {
        "id": "4Ka692SR8Utt"
      }
    },
    {
      "cell_type": "code",
      "source": [
        "data_cv_1 = data1[data1['commentBody_processed'].str.contains('|'.join(common_wordlist))].reset_index(drop=True)\n",
        "print(\"The number of rows in common data is\",len(data_cv_1))\n",
        "data_cv_1.head()"
      ],
      "metadata": {
        "colab": {
          "base_uri": "https://localhost:8080/",
          "height": 482
        },
        "id": "rNgOQmZe93Ms",
        "outputId": "b669f905-9140-4dee-9359-44e4ed74bce8"
      },
      "execution_count": 45,
      "outputs": [
        {
          "output_type": "display_data",
          "data": {
            "text/plain": [
              "<IPython.core.display.HTML object>"
            ],
            "text/html": [
              "\n",
              "  <style>\n",
              "    pre {\n",
              "        white-space: pre-wrap;\n",
              "    }\n",
              "  </style>\n",
              "  "
            ]
          },
          "metadata": {}
        },
        {
          "output_type": "display_data",
          "data": {
            "text/plain": [
              "<IPython.core.display.HTML object>"
            ],
            "text/html": [
              "\n",
              "  <style>\n",
              "    pre {\n",
              "        white-space: pre-wrap;\n",
              "    }\n",
              "  </style>\n",
              "  "
            ]
          },
          "metadata": {}
        },
        {
          "output_type": "stream",
          "name": "stdout",
          "text": [
            "The number of rows in common data is 4\n"
          ]
        },
        {
          "output_type": "execute_result",
          "data": {
            "text/plain": [
              "   commentID    userID                                        commentBody  \\\n",
              "0   22406041  56831107  @Nikos: Before fire, there were no humans. Dai...   \n",
              "1   15124798  72214154  I am so grateful for you getting the word out ...   \n",
              "2   10078110  68176225  Nurse practitioners are highly educated health...   \n",
              "3   16515301  73339369  This is absolute propaganda. It just is not un...   \n",
              "\n",
              "  approveDate  recommendations  replyCount  editorsSelection  \\\n",
              "0  1494410414                0           0             False   \n",
              "1  1433416318                0           0             False   \n",
              "2  1380121862                2           0             False   \n",
              "3  1446208319                0           0             False   \n",
              "\n",
              "                                         article_url comment_count  \\\n",
              "0  https://well.blogs.nytimes.com/2013/06/03/micr...             0   \n",
              "1  https://well.blogs.nytimes.com/2013/06/26/the-...             0   \n",
              "2  https://well.blogs.nytimes.com/2013/06/27/the-...             0   \n",
              "3  https://well.blogs.nytimes.com/2013/06/27/stud...             0   \n",
              "\n",
              "         Date                                           Section Title  \\\n",
              "0  2013/06/03                       microsampling-air-pollution         \n",
              "1  2013/06/26                       the-problem-with-pain-pills         \n",
              "2  2013/06/27  the-gulf-between-doctors-and-nurse-practitioners         \n",
              "3  2013/06/27      study-finds-no-vaccine-link-to-guillain-barr         \n",
              "\n",
              "                               commentBody_processed  \n",
              "0  @Nikos: Before fire, there were no humans. Dai...  \n",
              "1  I am so grateful for you getting the word out ...  \n",
              "2  Nurse practitioners are highly educated health...  \n",
              "3  This is absolute propaganda. It just is not un...  "
            ],
            "text/html": [
              "\n",
              "  <div id=\"df-d9e3e043-2536-4466-bd22-1fa780e51338\">\n",
              "    <div class=\"colab-df-container\">\n",
              "      <div>\n",
              "<style scoped>\n",
              "    .dataframe tbody tr th:only-of-type {\n",
              "        vertical-align: middle;\n",
              "    }\n",
              "\n",
              "    .dataframe tbody tr th {\n",
              "        vertical-align: top;\n",
              "    }\n",
              "\n",
              "    .dataframe thead th {\n",
              "        text-align: right;\n",
              "    }\n",
              "</style>\n",
              "<table border=\"1\" class=\"dataframe\">\n",
              "  <thead>\n",
              "    <tr style=\"text-align: right;\">\n",
              "      <th></th>\n",
              "      <th>commentID</th>\n",
              "      <th>userID</th>\n",
              "      <th>commentBody</th>\n",
              "      <th>approveDate</th>\n",
              "      <th>recommendations</th>\n",
              "      <th>replyCount</th>\n",
              "      <th>editorsSelection</th>\n",
              "      <th>article_url</th>\n",
              "      <th>comment_count</th>\n",
              "      <th>Date</th>\n",
              "      <th>Section</th>\n",
              "      <th>Title</th>\n",
              "      <th>commentBody_processed</th>\n",
              "    </tr>\n",
              "  </thead>\n",
              "  <tbody>\n",
              "    <tr>\n",
              "      <th>0</th>\n",
              "      <td>22406041</td>\n",
              "      <td>56831107</td>\n",
              "      <td>@Nikos: Before fire, there were no humans. Dai...</td>\n",
              "      <td>1494410414</td>\n",
              "      <td>0</td>\n",
              "      <td>0</td>\n",
              "      <td>False</td>\n",
              "      <td>https://well.blogs.nytimes.com/2013/06/03/micr...</td>\n",
              "      <td>0</td>\n",
              "      <td>2013/06/03</td>\n",
              "      <td>microsampling-air-pollution</td>\n",
              "      <td></td>\n",
              "      <td>@Nikos: Before fire, there were no humans. Dai...</td>\n",
              "    </tr>\n",
              "    <tr>\n",
              "      <th>1</th>\n",
              "      <td>15124798</td>\n",
              "      <td>72214154</td>\n",
              "      <td>I am so grateful for you getting the word out ...</td>\n",
              "      <td>1433416318</td>\n",
              "      <td>0</td>\n",
              "      <td>0</td>\n",
              "      <td>False</td>\n",
              "      <td>https://well.blogs.nytimes.com/2013/06/26/the-...</td>\n",
              "      <td>0</td>\n",
              "      <td>2013/06/26</td>\n",
              "      <td>the-problem-with-pain-pills</td>\n",
              "      <td></td>\n",
              "      <td>I am so grateful for you getting the word out ...</td>\n",
              "    </tr>\n",
              "    <tr>\n",
              "      <th>2</th>\n",
              "      <td>10078110</td>\n",
              "      <td>68176225</td>\n",
              "      <td>Nurse practitioners are highly educated health...</td>\n",
              "      <td>1380121862</td>\n",
              "      <td>2</td>\n",
              "      <td>0</td>\n",
              "      <td>False</td>\n",
              "      <td>https://well.blogs.nytimes.com/2013/06/27/the-...</td>\n",
              "      <td>0</td>\n",
              "      <td>2013/06/27</td>\n",
              "      <td>the-gulf-between-doctors-and-nurse-practitioners</td>\n",
              "      <td></td>\n",
              "      <td>Nurse practitioners are highly educated health...</td>\n",
              "    </tr>\n",
              "    <tr>\n",
              "      <th>3</th>\n",
              "      <td>16515301</td>\n",
              "      <td>73339369</td>\n",
              "      <td>This is absolute propaganda. It just is not un...</td>\n",
              "      <td>1446208319</td>\n",
              "      <td>0</td>\n",
              "      <td>0</td>\n",
              "      <td>False</td>\n",
              "      <td>https://well.blogs.nytimes.com/2013/06/27/stud...</td>\n",
              "      <td>0</td>\n",
              "      <td>2013/06/27</td>\n",
              "      <td>study-finds-no-vaccine-link-to-guillain-barr</td>\n",
              "      <td></td>\n",
              "      <td>This is absolute propaganda. It just is not un...</td>\n",
              "    </tr>\n",
              "  </tbody>\n",
              "</table>\n",
              "</div>\n",
              "      <button class=\"colab-df-convert\" onclick=\"convertToInteractive('df-d9e3e043-2536-4466-bd22-1fa780e51338')\"\n",
              "              title=\"Convert this dataframe to an interactive table.\"\n",
              "              style=\"display:none;\">\n",
              "        \n",
              "  <svg xmlns=\"http://www.w3.org/2000/svg\" height=\"24px\"viewBox=\"0 0 24 24\"\n",
              "       width=\"24px\">\n",
              "    <path d=\"M0 0h24v24H0V0z\" fill=\"none\"/>\n",
              "    <path d=\"M18.56 5.44l.94 2.06.94-2.06 2.06-.94-2.06-.94-.94-2.06-.94 2.06-2.06.94zm-11 1L8.5 8.5l.94-2.06 2.06-.94-2.06-.94L8.5 2.5l-.94 2.06-2.06.94zm10 10l.94 2.06.94-2.06 2.06-.94-2.06-.94-.94-2.06-.94 2.06-2.06.94z\"/><path d=\"M17.41 7.96l-1.37-1.37c-.4-.4-.92-.59-1.43-.59-.52 0-1.04.2-1.43.59L10.3 9.45l-7.72 7.72c-.78.78-.78 2.05 0 2.83L4 21.41c.39.39.9.59 1.41.59.51 0 1.02-.2 1.41-.59l7.78-7.78 2.81-2.81c.8-.78.8-2.07 0-2.86zM5.41 20L4 18.59l7.72-7.72 1.47 1.35L5.41 20z\"/>\n",
              "  </svg>\n",
              "      </button>\n",
              "      \n",
              "  <style>\n",
              "    .colab-df-container {\n",
              "      display:flex;\n",
              "      flex-wrap:wrap;\n",
              "      gap: 12px;\n",
              "    }\n",
              "\n",
              "    .colab-df-convert {\n",
              "      background-color: #E8F0FE;\n",
              "      border: none;\n",
              "      border-radius: 50%;\n",
              "      cursor: pointer;\n",
              "      display: none;\n",
              "      fill: #1967D2;\n",
              "      height: 32px;\n",
              "      padding: 0 0 0 0;\n",
              "      width: 32px;\n",
              "    }\n",
              "\n",
              "    .colab-df-convert:hover {\n",
              "      background-color: #E2EBFA;\n",
              "      box-shadow: 0px 1px 2px rgba(60, 64, 67, 0.3), 0px 1px 3px 1px rgba(60, 64, 67, 0.15);\n",
              "      fill: #174EA6;\n",
              "    }\n",
              "\n",
              "    [theme=dark] .colab-df-convert {\n",
              "      background-color: #3B4455;\n",
              "      fill: #D2E3FC;\n",
              "    }\n",
              "\n",
              "    [theme=dark] .colab-df-convert:hover {\n",
              "      background-color: #434B5C;\n",
              "      box-shadow: 0px 1px 3px 1px rgba(0, 0, 0, 0.15);\n",
              "      filter: drop-shadow(0px 1px 2px rgba(0, 0, 0, 0.3));\n",
              "      fill: #FFFFFF;\n",
              "    }\n",
              "  </style>\n",
              "\n",
              "      <script>\n",
              "        const buttonEl =\n",
              "          document.querySelector('#df-d9e3e043-2536-4466-bd22-1fa780e51338 button.colab-df-convert');\n",
              "        buttonEl.style.display =\n",
              "          google.colab.kernel.accessAllowed ? 'block' : 'none';\n",
              "\n",
              "        async function convertToInteractive(key) {\n",
              "          const element = document.querySelector('#df-d9e3e043-2536-4466-bd22-1fa780e51338');\n",
              "          const dataTable =\n",
              "            await google.colab.kernel.invokeFunction('convertToInteractive',\n",
              "                                                     [key], {});\n",
              "          if (!dataTable) return;\n",
              "\n",
              "          const docLinkHtml = 'Like what you see? Visit the ' +\n",
              "            '<a target=\"_blank\" href=https://colab.research.google.com/notebooks/data_table.ipynb>data table notebook</a>'\n",
              "            + ' to learn more about interactive tables.';\n",
              "          element.innerHTML = '';\n",
              "          dataTable['output_type'] = 'display_data';\n",
              "          await google.colab.output.renderOutput(dataTable, element);\n",
              "          const docLink = document.createElement('div');\n",
              "          docLink.innerHTML = docLinkHtml;\n",
              "          element.appendChild(docLink);\n",
              "        }\n",
              "      </script>\n",
              "    </div>\n",
              "  </div>\n",
              "  "
            ]
          },
          "metadata": {},
          "execution_count": 45
        }
      ]
    },
    {
      "cell_type": "code",
      "source": [
        "data_cv_2 = data_vaccine[data_vaccine['commentBody_processed'].str.contains('|'.join(covid_wordlist))].reset_index(drop=True)\n",
        "print(\"The number of rows in v+c data is\",len(data_cv_2))\n",
        "data_cv_2.head()"
      ],
      "metadata": {
        "colab": {
          "base_uri": "https://localhost:8080/",
          "height": 381
        },
        "id": "Z6UuJcEa8gXy",
        "outputId": "95b9348b-fe1f-4e49-c325-e8a5b9946ed6"
      },
      "execution_count": 46,
      "outputs": [
        {
          "output_type": "display_data",
          "data": {
            "text/plain": [
              "<IPython.core.display.HTML object>"
            ],
            "text/html": [
              "\n",
              "  <style>\n",
              "    pre {\n",
              "        white-space: pre-wrap;\n",
              "    }\n",
              "  </style>\n",
              "  "
            ]
          },
          "metadata": {}
        },
        {
          "output_type": "display_data",
          "data": {
            "text/plain": [
              "<IPython.core.display.HTML object>"
            ],
            "text/html": [
              "\n",
              "  <style>\n",
              "    pre {\n",
              "        white-space: pre-wrap;\n",
              "    }\n",
              "  </style>\n",
              "  "
            ]
          },
          "metadata": {}
        },
        {
          "output_type": "stream",
          "name": "stdout",
          "text": [
            "The number of rows in v+c data is 3\n"
          ]
        },
        {
          "output_type": "execute_result",
          "data": {
            "text/plain": [
              "   commentID    userID                                        commentBody  \\\n",
              "0   22406041  56831107  @Nikos: Before fire, there were no humans. Dai...   \n",
              "1   15124798  72214154  I am so grateful for you getting the word out ...   \n",
              "2   16515301  73339369  This is absolute propaganda. It just is not un...   \n",
              "\n",
              "  approveDate  recommendations  replyCount  editorsSelection  \\\n",
              "0  1494410414                0           0             False   \n",
              "1  1433416318                0           0             False   \n",
              "2  1446208319                0           0             False   \n",
              "\n",
              "                                         article_url comment_count  \\\n",
              "0  https://well.blogs.nytimes.com/2013/06/03/micr...             0   \n",
              "1  https://well.blogs.nytimes.com/2013/06/26/the-...             0   \n",
              "2  https://well.blogs.nytimes.com/2013/06/27/stud...             0   \n",
              "\n",
              "         Date                                       Section Title  \\\n",
              "0  2013/06/03                   microsampling-air-pollution         \n",
              "1  2013/06/26                   the-problem-with-pain-pills         \n",
              "2  2013/06/27  study-finds-no-vaccine-link-to-guillain-barr         \n",
              "\n",
              "                               commentBody_processed  \n",
              "0  @Nikos: Before fire, there were no humans. Dai...  \n",
              "1  I am so grateful for you getting the word out ...  \n",
              "2  This is absolute propaganda. It just is not un...  "
            ],
            "text/html": [
              "\n",
              "  <div id=\"df-d720b018-d77e-40d2-8f48-b2f7c3997211\">\n",
              "    <div class=\"colab-df-container\">\n",
              "      <div>\n",
              "<style scoped>\n",
              "    .dataframe tbody tr th:only-of-type {\n",
              "        vertical-align: middle;\n",
              "    }\n",
              "\n",
              "    .dataframe tbody tr th {\n",
              "        vertical-align: top;\n",
              "    }\n",
              "\n",
              "    .dataframe thead th {\n",
              "        text-align: right;\n",
              "    }\n",
              "</style>\n",
              "<table border=\"1\" class=\"dataframe\">\n",
              "  <thead>\n",
              "    <tr style=\"text-align: right;\">\n",
              "      <th></th>\n",
              "      <th>commentID</th>\n",
              "      <th>userID</th>\n",
              "      <th>commentBody</th>\n",
              "      <th>approveDate</th>\n",
              "      <th>recommendations</th>\n",
              "      <th>replyCount</th>\n",
              "      <th>editorsSelection</th>\n",
              "      <th>article_url</th>\n",
              "      <th>comment_count</th>\n",
              "      <th>Date</th>\n",
              "      <th>Section</th>\n",
              "      <th>Title</th>\n",
              "      <th>commentBody_processed</th>\n",
              "    </tr>\n",
              "  </thead>\n",
              "  <tbody>\n",
              "    <tr>\n",
              "      <th>0</th>\n",
              "      <td>22406041</td>\n",
              "      <td>56831107</td>\n",
              "      <td>@Nikos: Before fire, there were no humans. Dai...</td>\n",
              "      <td>1494410414</td>\n",
              "      <td>0</td>\n",
              "      <td>0</td>\n",
              "      <td>False</td>\n",
              "      <td>https://well.blogs.nytimes.com/2013/06/03/micr...</td>\n",
              "      <td>0</td>\n",
              "      <td>2013/06/03</td>\n",
              "      <td>microsampling-air-pollution</td>\n",
              "      <td></td>\n",
              "      <td>@Nikos: Before fire, there were no humans. Dai...</td>\n",
              "    </tr>\n",
              "    <tr>\n",
              "      <th>1</th>\n",
              "      <td>15124798</td>\n",
              "      <td>72214154</td>\n",
              "      <td>I am so grateful for you getting the word out ...</td>\n",
              "      <td>1433416318</td>\n",
              "      <td>0</td>\n",
              "      <td>0</td>\n",
              "      <td>False</td>\n",
              "      <td>https://well.blogs.nytimes.com/2013/06/26/the-...</td>\n",
              "      <td>0</td>\n",
              "      <td>2013/06/26</td>\n",
              "      <td>the-problem-with-pain-pills</td>\n",
              "      <td></td>\n",
              "      <td>I am so grateful for you getting the word out ...</td>\n",
              "    </tr>\n",
              "    <tr>\n",
              "      <th>2</th>\n",
              "      <td>16515301</td>\n",
              "      <td>73339369</td>\n",
              "      <td>This is absolute propaganda. It just is not un...</td>\n",
              "      <td>1446208319</td>\n",
              "      <td>0</td>\n",
              "      <td>0</td>\n",
              "      <td>False</td>\n",
              "      <td>https://well.blogs.nytimes.com/2013/06/27/stud...</td>\n",
              "      <td>0</td>\n",
              "      <td>2013/06/27</td>\n",
              "      <td>study-finds-no-vaccine-link-to-guillain-barr</td>\n",
              "      <td></td>\n",
              "      <td>This is absolute propaganda. It just is not un...</td>\n",
              "    </tr>\n",
              "  </tbody>\n",
              "</table>\n",
              "</div>\n",
              "      <button class=\"colab-df-convert\" onclick=\"convertToInteractive('df-d720b018-d77e-40d2-8f48-b2f7c3997211')\"\n",
              "              title=\"Convert this dataframe to an interactive table.\"\n",
              "              style=\"display:none;\">\n",
              "        \n",
              "  <svg xmlns=\"http://www.w3.org/2000/svg\" height=\"24px\"viewBox=\"0 0 24 24\"\n",
              "       width=\"24px\">\n",
              "    <path d=\"M0 0h24v24H0V0z\" fill=\"none\"/>\n",
              "    <path d=\"M18.56 5.44l.94 2.06.94-2.06 2.06-.94-2.06-.94-.94-2.06-.94 2.06-2.06.94zm-11 1L8.5 8.5l.94-2.06 2.06-.94-2.06-.94L8.5 2.5l-.94 2.06-2.06.94zm10 10l.94 2.06.94-2.06 2.06-.94-2.06-.94-.94-2.06-.94 2.06-2.06.94z\"/><path d=\"M17.41 7.96l-1.37-1.37c-.4-.4-.92-.59-1.43-.59-.52 0-1.04.2-1.43.59L10.3 9.45l-7.72 7.72c-.78.78-.78 2.05 0 2.83L4 21.41c.39.39.9.59 1.41.59.51 0 1.02-.2 1.41-.59l7.78-7.78 2.81-2.81c.8-.78.8-2.07 0-2.86zM5.41 20L4 18.59l7.72-7.72 1.47 1.35L5.41 20z\"/>\n",
              "  </svg>\n",
              "      </button>\n",
              "      \n",
              "  <style>\n",
              "    .colab-df-container {\n",
              "      display:flex;\n",
              "      flex-wrap:wrap;\n",
              "      gap: 12px;\n",
              "    }\n",
              "\n",
              "    .colab-df-convert {\n",
              "      background-color: #E8F0FE;\n",
              "      border: none;\n",
              "      border-radius: 50%;\n",
              "      cursor: pointer;\n",
              "      display: none;\n",
              "      fill: #1967D2;\n",
              "      height: 32px;\n",
              "      padding: 0 0 0 0;\n",
              "      width: 32px;\n",
              "    }\n",
              "\n",
              "    .colab-df-convert:hover {\n",
              "      background-color: #E2EBFA;\n",
              "      box-shadow: 0px 1px 2px rgba(60, 64, 67, 0.3), 0px 1px 3px 1px rgba(60, 64, 67, 0.15);\n",
              "      fill: #174EA6;\n",
              "    }\n",
              "\n",
              "    [theme=dark] .colab-df-convert {\n",
              "      background-color: #3B4455;\n",
              "      fill: #D2E3FC;\n",
              "    }\n",
              "\n",
              "    [theme=dark] .colab-df-convert:hover {\n",
              "      background-color: #434B5C;\n",
              "      box-shadow: 0px 1px 3px 1px rgba(0, 0, 0, 0.15);\n",
              "      filter: drop-shadow(0px 1px 2px rgba(0, 0, 0, 0.3));\n",
              "      fill: #FFFFFF;\n",
              "    }\n",
              "  </style>\n",
              "\n",
              "      <script>\n",
              "        const buttonEl =\n",
              "          document.querySelector('#df-d720b018-d77e-40d2-8f48-b2f7c3997211 button.colab-df-convert');\n",
              "        buttonEl.style.display =\n",
              "          google.colab.kernel.accessAllowed ? 'block' : 'none';\n",
              "\n",
              "        async function convertToInteractive(key) {\n",
              "          const element = document.querySelector('#df-d720b018-d77e-40d2-8f48-b2f7c3997211');\n",
              "          const dataTable =\n",
              "            await google.colab.kernel.invokeFunction('convertToInteractive',\n",
              "                                                     [key], {});\n",
              "          if (!dataTable) return;\n",
              "\n",
              "          const docLinkHtml = 'Like what you see? Visit the ' +\n",
              "            '<a target=\"_blank\" href=https://colab.research.google.com/notebooks/data_table.ipynb>data table notebook</a>'\n",
              "            + ' to learn more about interactive tables.';\n",
              "          element.innerHTML = '';\n",
              "          dataTable['output_type'] = 'display_data';\n",
              "          await google.colab.output.renderOutput(dataTable, element);\n",
              "          const docLink = document.createElement('div');\n",
              "          docLink.innerHTML = docLinkHtml;\n",
              "          element.appendChild(docLink);\n",
              "        }\n",
              "      </script>\n",
              "    </div>\n",
              "  </div>\n",
              "  "
            ]
          },
          "metadata": {},
          "execution_count": 46
        }
      ]
    },
    {
      "cell_type": "code",
      "source": [
        "data_cv = pd.concat([data_cv_1,data_cv_2]).drop_duplicates().reset_index(drop=True)\n",
        "print(\"The number of rows in vaccine data is\",len(data_cv))\n",
        "data_cv.head()"
      ],
      "metadata": {
        "colab": {
          "base_uri": "https://localhost:8080/",
          "height": 482
        },
        "id": "Kp9KolQl9NJc",
        "outputId": "250ae090-2676-418b-b2ea-b9f662588f24"
      },
      "execution_count": 47,
      "outputs": [
        {
          "output_type": "display_data",
          "data": {
            "text/plain": [
              "<IPython.core.display.HTML object>"
            ],
            "text/html": [
              "\n",
              "  <style>\n",
              "    pre {\n",
              "        white-space: pre-wrap;\n",
              "    }\n",
              "  </style>\n",
              "  "
            ]
          },
          "metadata": {}
        },
        {
          "output_type": "display_data",
          "data": {
            "text/plain": [
              "<IPython.core.display.HTML object>"
            ],
            "text/html": [
              "\n",
              "  <style>\n",
              "    pre {\n",
              "        white-space: pre-wrap;\n",
              "    }\n",
              "  </style>\n",
              "  "
            ]
          },
          "metadata": {}
        },
        {
          "output_type": "stream",
          "name": "stdout",
          "text": [
            "The number of rows in vaccine data is 4\n"
          ]
        },
        {
          "output_type": "execute_result",
          "data": {
            "text/plain": [
              "   commentID    userID                                        commentBody  \\\n",
              "0   22406041  56831107  @Nikos: Before fire, there were no humans. Dai...   \n",
              "1   15124798  72214154  I am so grateful for you getting the word out ...   \n",
              "2   10078110  68176225  Nurse practitioners are highly educated health...   \n",
              "3   16515301  73339369  This is absolute propaganda. It just is not un...   \n",
              "\n",
              "  approveDate  recommendations  replyCount  editorsSelection  \\\n",
              "0  1494410414                0           0             False   \n",
              "1  1433416318                0           0             False   \n",
              "2  1380121862                2           0             False   \n",
              "3  1446208319                0           0             False   \n",
              "\n",
              "                                         article_url comment_count  \\\n",
              "0  https://well.blogs.nytimes.com/2013/06/03/micr...             0   \n",
              "1  https://well.blogs.nytimes.com/2013/06/26/the-...             0   \n",
              "2  https://well.blogs.nytimes.com/2013/06/27/the-...             0   \n",
              "3  https://well.blogs.nytimes.com/2013/06/27/stud...             0   \n",
              "\n",
              "         Date                                           Section Title  \\\n",
              "0  2013/06/03                       microsampling-air-pollution         \n",
              "1  2013/06/26                       the-problem-with-pain-pills         \n",
              "2  2013/06/27  the-gulf-between-doctors-and-nurse-practitioners         \n",
              "3  2013/06/27      study-finds-no-vaccine-link-to-guillain-barr         \n",
              "\n",
              "                               commentBody_processed  \n",
              "0  @Nikos: Before fire, there were no humans. Dai...  \n",
              "1  I am so grateful for you getting the word out ...  \n",
              "2  Nurse practitioners are highly educated health...  \n",
              "3  This is absolute propaganda. It just is not un...  "
            ],
            "text/html": [
              "\n",
              "  <div id=\"df-9fc7d271-6a46-4579-993e-e1c5fb7febb9\">\n",
              "    <div class=\"colab-df-container\">\n",
              "      <div>\n",
              "<style scoped>\n",
              "    .dataframe tbody tr th:only-of-type {\n",
              "        vertical-align: middle;\n",
              "    }\n",
              "\n",
              "    .dataframe tbody tr th {\n",
              "        vertical-align: top;\n",
              "    }\n",
              "\n",
              "    .dataframe thead th {\n",
              "        text-align: right;\n",
              "    }\n",
              "</style>\n",
              "<table border=\"1\" class=\"dataframe\">\n",
              "  <thead>\n",
              "    <tr style=\"text-align: right;\">\n",
              "      <th></th>\n",
              "      <th>commentID</th>\n",
              "      <th>userID</th>\n",
              "      <th>commentBody</th>\n",
              "      <th>approveDate</th>\n",
              "      <th>recommendations</th>\n",
              "      <th>replyCount</th>\n",
              "      <th>editorsSelection</th>\n",
              "      <th>article_url</th>\n",
              "      <th>comment_count</th>\n",
              "      <th>Date</th>\n",
              "      <th>Section</th>\n",
              "      <th>Title</th>\n",
              "      <th>commentBody_processed</th>\n",
              "    </tr>\n",
              "  </thead>\n",
              "  <tbody>\n",
              "    <tr>\n",
              "      <th>0</th>\n",
              "      <td>22406041</td>\n",
              "      <td>56831107</td>\n",
              "      <td>@Nikos: Before fire, there were no humans. Dai...</td>\n",
              "      <td>1494410414</td>\n",
              "      <td>0</td>\n",
              "      <td>0</td>\n",
              "      <td>False</td>\n",
              "      <td>https://well.blogs.nytimes.com/2013/06/03/micr...</td>\n",
              "      <td>0</td>\n",
              "      <td>2013/06/03</td>\n",
              "      <td>microsampling-air-pollution</td>\n",
              "      <td></td>\n",
              "      <td>@Nikos: Before fire, there were no humans. Dai...</td>\n",
              "    </tr>\n",
              "    <tr>\n",
              "      <th>1</th>\n",
              "      <td>15124798</td>\n",
              "      <td>72214154</td>\n",
              "      <td>I am so grateful for you getting the word out ...</td>\n",
              "      <td>1433416318</td>\n",
              "      <td>0</td>\n",
              "      <td>0</td>\n",
              "      <td>False</td>\n",
              "      <td>https://well.blogs.nytimes.com/2013/06/26/the-...</td>\n",
              "      <td>0</td>\n",
              "      <td>2013/06/26</td>\n",
              "      <td>the-problem-with-pain-pills</td>\n",
              "      <td></td>\n",
              "      <td>I am so grateful for you getting the word out ...</td>\n",
              "    </tr>\n",
              "    <tr>\n",
              "      <th>2</th>\n",
              "      <td>10078110</td>\n",
              "      <td>68176225</td>\n",
              "      <td>Nurse practitioners are highly educated health...</td>\n",
              "      <td>1380121862</td>\n",
              "      <td>2</td>\n",
              "      <td>0</td>\n",
              "      <td>False</td>\n",
              "      <td>https://well.blogs.nytimes.com/2013/06/27/the-...</td>\n",
              "      <td>0</td>\n",
              "      <td>2013/06/27</td>\n",
              "      <td>the-gulf-between-doctors-and-nurse-practitioners</td>\n",
              "      <td></td>\n",
              "      <td>Nurse practitioners are highly educated health...</td>\n",
              "    </tr>\n",
              "    <tr>\n",
              "      <th>3</th>\n",
              "      <td>16515301</td>\n",
              "      <td>73339369</td>\n",
              "      <td>This is absolute propaganda. It just is not un...</td>\n",
              "      <td>1446208319</td>\n",
              "      <td>0</td>\n",
              "      <td>0</td>\n",
              "      <td>False</td>\n",
              "      <td>https://well.blogs.nytimes.com/2013/06/27/stud...</td>\n",
              "      <td>0</td>\n",
              "      <td>2013/06/27</td>\n",
              "      <td>study-finds-no-vaccine-link-to-guillain-barr</td>\n",
              "      <td></td>\n",
              "      <td>This is absolute propaganda. It just is not un...</td>\n",
              "    </tr>\n",
              "  </tbody>\n",
              "</table>\n",
              "</div>\n",
              "      <button class=\"colab-df-convert\" onclick=\"convertToInteractive('df-9fc7d271-6a46-4579-993e-e1c5fb7febb9')\"\n",
              "              title=\"Convert this dataframe to an interactive table.\"\n",
              "              style=\"display:none;\">\n",
              "        \n",
              "  <svg xmlns=\"http://www.w3.org/2000/svg\" height=\"24px\"viewBox=\"0 0 24 24\"\n",
              "       width=\"24px\">\n",
              "    <path d=\"M0 0h24v24H0V0z\" fill=\"none\"/>\n",
              "    <path d=\"M18.56 5.44l.94 2.06.94-2.06 2.06-.94-2.06-.94-.94-2.06-.94 2.06-2.06.94zm-11 1L8.5 8.5l.94-2.06 2.06-.94-2.06-.94L8.5 2.5l-.94 2.06-2.06.94zm10 10l.94 2.06.94-2.06 2.06-.94-2.06-.94-.94-2.06-.94 2.06-2.06.94z\"/><path d=\"M17.41 7.96l-1.37-1.37c-.4-.4-.92-.59-1.43-.59-.52 0-1.04.2-1.43.59L10.3 9.45l-7.72 7.72c-.78.78-.78 2.05 0 2.83L4 21.41c.39.39.9.59 1.41.59.51 0 1.02-.2 1.41-.59l7.78-7.78 2.81-2.81c.8-.78.8-2.07 0-2.86zM5.41 20L4 18.59l7.72-7.72 1.47 1.35L5.41 20z\"/>\n",
              "  </svg>\n",
              "      </button>\n",
              "      \n",
              "  <style>\n",
              "    .colab-df-container {\n",
              "      display:flex;\n",
              "      flex-wrap:wrap;\n",
              "      gap: 12px;\n",
              "    }\n",
              "\n",
              "    .colab-df-convert {\n",
              "      background-color: #E8F0FE;\n",
              "      border: none;\n",
              "      border-radius: 50%;\n",
              "      cursor: pointer;\n",
              "      display: none;\n",
              "      fill: #1967D2;\n",
              "      height: 32px;\n",
              "      padding: 0 0 0 0;\n",
              "      width: 32px;\n",
              "    }\n",
              "\n",
              "    .colab-df-convert:hover {\n",
              "      background-color: #E2EBFA;\n",
              "      box-shadow: 0px 1px 2px rgba(60, 64, 67, 0.3), 0px 1px 3px 1px rgba(60, 64, 67, 0.15);\n",
              "      fill: #174EA6;\n",
              "    }\n",
              "\n",
              "    [theme=dark] .colab-df-convert {\n",
              "      background-color: #3B4455;\n",
              "      fill: #D2E3FC;\n",
              "    }\n",
              "\n",
              "    [theme=dark] .colab-df-convert:hover {\n",
              "      background-color: #434B5C;\n",
              "      box-shadow: 0px 1px 3px 1px rgba(0, 0, 0, 0.15);\n",
              "      filter: drop-shadow(0px 1px 2px rgba(0, 0, 0, 0.3));\n",
              "      fill: #FFFFFF;\n",
              "    }\n",
              "  </style>\n",
              "\n",
              "      <script>\n",
              "        const buttonEl =\n",
              "          document.querySelector('#df-9fc7d271-6a46-4579-993e-e1c5fb7febb9 button.colab-df-convert');\n",
              "        buttonEl.style.display =\n",
              "          google.colab.kernel.accessAllowed ? 'block' : 'none';\n",
              "\n",
              "        async function convertToInteractive(key) {\n",
              "          const element = document.querySelector('#df-9fc7d271-6a46-4579-993e-e1c5fb7febb9');\n",
              "          const dataTable =\n",
              "            await google.colab.kernel.invokeFunction('convertToInteractive',\n",
              "                                                     [key], {});\n",
              "          if (!dataTable) return;\n",
              "\n",
              "          const docLinkHtml = 'Like what you see? Visit the ' +\n",
              "            '<a target=\"_blank\" href=https://colab.research.google.com/notebooks/data_table.ipynb>data table notebook</a>'\n",
              "            + ' to learn more about interactive tables.';\n",
              "          element.innerHTML = '';\n",
              "          dataTable['output_type'] = 'display_data';\n",
              "          await google.colab.output.renderOutput(dataTable, element);\n",
              "          const docLink = document.createElement('div');\n",
              "          docLink.innerHTML = docLinkHtml;\n",
              "          element.appendChild(docLink);\n",
              "        }\n",
              "      </script>\n",
              "    </div>\n",
              "  </div>\n",
              "  "
            ]
          },
          "metadata": {},
          "execution_count": 47
        }
      ]
    },
    {
      "cell_type": "markdown",
      "source": [
        "#Sentiment Analysis"
      ],
      "metadata": {
        "id": "xprtZI_wRoxO"
      }
    },
    {
      "cell_type": "markdown",
      "source": [
        "#### Vaccine_Data"
      ],
      "metadata": {
        "id": "vkTdWJ_m5MmT"
      }
    },
    {
      "cell_type": "code",
      "source": [
        "import nltk\n",
        "nltk.download('vader_lexicon')\n",
        "from nltk.sentiment.vader import SentimentIntensityAnalyzer\n",
        "\n",
        "\n",
        "analyzer = SentimentIntensityAnalyzer()\n",
        "data_vaccine['final_score'] = [analyzer.polarity_scores(x)['compound'] for x in data_vaccine['commentBody_processed']]\n"
      ],
      "metadata": {
        "colab": {
          "base_uri": "https://localhost:8080/",
          "height": 52
        },
        "id": "jipK3zs3RnzI",
        "outputId": "9033bcc8-2cf9-42ee-de8c-cb6b3515cda0"
      },
      "execution_count": 48,
      "outputs": [
        {
          "output_type": "display_data",
          "data": {
            "text/plain": [
              "<IPython.core.display.HTML object>"
            ],
            "text/html": [
              "\n",
              "  <style>\n",
              "    pre {\n",
              "        white-space: pre-wrap;\n",
              "    }\n",
              "  </style>\n",
              "  "
            ]
          },
          "metadata": {}
        },
        {
          "output_type": "display_data",
          "data": {
            "text/plain": [
              "<IPython.core.display.HTML object>"
            ],
            "text/html": [
              "\n",
              "  <style>\n",
              "    pre {\n",
              "        white-space: pre-wrap;\n",
              "    }\n",
              "  </style>\n",
              "  "
            ]
          },
          "metadata": {}
        },
        {
          "output_type": "stream",
          "name": "stderr",
          "text": [
            "[nltk_data] Downloading package vader_lexicon to /root/nltk_data...\n",
            "[nltk_data]   Package vader_lexicon is already up-to-date!\n"
          ]
        }
      ]
    },
    {
      "cell_type": "code",
      "source": [
        "max(data_vaccine.loc[:, 'final_score'])"
      ],
      "metadata": {
        "colab": {
          "base_uri": "https://localhost:8080/",
          "height": 34
        },
        "id": "sJBDIf2mSY2X",
        "outputId": "16109445-4919-4f44-9b22-cb2cd039eb93"
      },
      "execution_count": 49,
      "outputs": [
        {
          "output_type": "display_data",
          "data": {
            "text/plain": [
              "<IPython.core.display.HTML object>"
            ],
            "text/html": [
              "\n",
              "  <style>\n",
              "    pre {\n",
              "        white-space: pre-wrap;\n",
              "    }\n",
              "  </style>\n",
              "  "
            ]
          },
          "metadata": {}
        },
        {
          "output_type": "display_data",
          "data": {
            "text/plain": [
              "<IPython.core.display.HTML object>"
            ],
            "text/html": [
              "\n",
              "  <style>\n",
              "    pre {\n",
              "        white-space: pre-wrap;\n",
              "    }\n",
              "  </style>\n",
              "  "
            ]
          },
          "metadata": {}
        },
        {
          "output_type": "execute_result",
          "data": {
            "text/plain": [
              "0.6124"
            ]
          },
          "metadata": {},
          "execution_count": 49
        }
      ]
    },
    {
      "cell_type": "code",
      "source": [
        "print(\"The mean of final sentiment score for current month is:\",data_vaccine.loc[:, 'final_score'].mean())"
      ],
      "metadata": {
        "colab": {
          "base_uri": "https://localhost:8080/",
          "height": 34
        },
        "id": "D2KCZomSTAKU",
        "outputId": "043d6993-a48e-4615-dc8c-9f964e75b304"
      },
      "execution_count": 50,
      "outputs": [
        {
          "output_type": "display_data",
          "data": {
            "text/plain": [
              "<IPython.core.display.HTML object>"
            ],
            "text/html": [
              "\n",
              "  <style>\n",
              "    pre {\n",
              "        white-space: pre-wrap;\n",
              "    }\n",
              "  </style>\n",
              "  "
            ]
          },
          "metadata": {}
        },
        {
          "output_type": "display_data",
          "data": {
            "text/plain": [
              "<IPython.core.display.HTML object>"
            ],
            "text/html": [
              "\n",
              "  <style>\n",
              "    pre {\n",
              "        white-space: pre-wrap;\n",
              "    }\n",
              "  </style>\n",
              "  "
            ]
          },
          "metadata": {}
        },
        {
          "output_type": "stream",
          "name": "stdout",
          "text": [
            "The mean of final sentiment score for current month is: -0.59036\n"
          ]
        }
      ]
    },
    {
      "cell_type": "markdown",
      "source": [
        "#### Covid_Data"
      ],
      "metadata": {
        "id": "S4ve2pAn6mKE"
      }
    },
    {
      "cell_type": "code",
      "source": [
        "analyzer = SentimentIntensityAnalyzer()\n",
        "data_covid['final_score'] = [analyzer.polarity_scores(x)['compound'] for x in data_covid['commentBody_processed']]\n",
        "data_covid[['commentBody_processed','final_score']].iloc[0]"
      ],
      "metadata": {
        "colab": {
          "base_uri": "https://localhost:8080/",
          "height": 69
        },
        "id": "mLUVGEor6o_2",
        "outputId": "ad44bb90-a016-4fa3-fe9b-f4dcd15ad31e"
      },
      "execution_count": 51,
      "outputs": [
        {
          "output_type": "display_data",
          "data": {
            "text/plain": [
              "<IPython.core.display.HTML object>"
            ],
            "text/html": [
              "\n",
              "  <style>\n",
              "    pre {\n",
              "        white-space: pre-wrap;\n",
              "    }\n",
              "  </style>\n",
              "  "
            ]
          },
          "metadata": {}
        },
        {
          "output_type": "display_data",
          "data": {
            "text/plain": [
              "<IPython.core.display.HTML object>"
            ],
            "text/html": [
              "\n",
              "  <style>\n",
              "    pre {\n",
              "        white-space: pre-wrap;\n",
              "    }\n",
              "  </style>\n",
              "  "
            ]
          },
          "metadata": {}
        },
        {
          "output_type": "execute_result",
          "data": {
            "text/plain": [
              "commentBody_processed    @Nikos: Before fire, there were no humans. Dai...\n",
              "final_score                                                        -0.6249\n",
              "Name: 0, dtype: object"
            ]
          },
          "metadata": {},
          "execution_count": 51
        }
      ]
    },
    {
      "cell_type": "code",
      "source": [
        "max(data_covid.loc[:, 'final_score'])"
      ],
      "metadata": {
        "colab": {
          "base_uri": "https://localhost:8080/",
          "height": 34
        },
        "id": "POLiBEgB3sWE",
        "outputId": "3d3c434c-babf-4489-bbf1-ce05a7aa2d14"
      },
      "execution_count": 52,
      "outputs": [
        {
          "output_type": "display_data",
          "data": {
            "text/plain": [
              "<IPython.core.display.HTML object>"
            ],
            "text/html": [
              "\n",
              "  <style>\n",
              "    pre {\n",
              "        white-space: pre-wrap;\n",
              "    }\n",
              "  </style>\n",
              "  "
            ]
          },
          "metadata": {}
        },
        {
          "output_type": "display_data",
          "data": {
            "text/plain": [
              "<IPython.core.display.HTML object>"
            ],
            "text/html": [
              "\n",
              "  <style>\n",
              "    pre {\n",
              "        white-space: pre-wrap;\n",
              "    }\n",
              "  </style>\n",
              "  "
            ]
          },
          "metadata": {}
        },
        {
          "output_type": "execute_result",
          "data": {
            "text/plain": [
              "0.9853"
            ]
          },
          "metadata": {},
          "execution_count": 52
        }
      ]
    },
    {
      "cell_type": "code",
      "source": [
        "print(\"The mean of final sentiment score for current month is:\",data_covid.loc[:, 'final_score'].mean())"
      ],
      "metadata": {
        "colab": {
          "base_uri": "https://localhost:8080/",
          "height": 34
        },
        "id": "u1qQd-dj60nG",
        "outputId": "3cf0c57d-93a4-4958-ca18-704d358679bb"
      },
      "execution_count": 53,
      "outputs": [
        {
          "output_type": "display_data",
          "data": {
            "text/plain": [
              "<IPython.core.display.HTML object>"
            ],
            "text/html": [
              "\n",
              "  <style>\n",
              "    pre {\n",
              "        white-space: pre-wrap;\n",
              "    }\n",
              "  </style>\n",
              "  "
            ]
          },
          "metadata": {}
        },
        {
          "output_type": "display_data",
          "data": {
            "text/plain": [
              "<IPython.core.display.HTML object>"
            ],
            "text/html": [
              "\n",
              "  <style>\n",
              "    pre {\n",
              "        white-space: pre-wrap;\n",
              "    }\n",
              "  </style>\n",
              "  "
            ]
          },
          "metadata": {}
        },
        {
          "output_type": "stream",
          "name": "stdout",
          "text": [
            "The mean of final sentiment score for current month is: -0.003899999999999987\n"
          ]
        }
      ]
    },
    {
      "cell_type": "markdown",
      "source": [
        "#### Covid + Vaccine Data\n"
      ],
      "metadata": {
        "id": "R3QrNslC7LpV"
      }
    },
    {
      "cell_type": "code",
      "source": [
        "analyzer = SentimentIntensityAnalyzer()\n",
        "data_cv['final_score'] = [analyzer.polarity_scores(x)['compound'] for x in data_cv['commentBody_processed']]\n",
        "data_cv[['commentBody_processed','final_score']].iloc[0]"
      ],
      "metadata": {
        "colab": {
          "base_uri": "https://localhost:8080/",
          "height": 69
        },
        "id": "-kZ3ilHs7DBE",
        "outputId": "e08b51a8-0601-45da-cd5d-9a3a9cf227ac"
      },
      "execution_count": 54,
      "outputs": [
        {
          "output_type": "display_data",
          "data": {
            "text/plain": [
              "<IPython.core.display.HTML object>"
            ],
            "text/html": [
              "\n",
              "  <style>\n",
              "    pre {\n",
              "        white-space: pre-wrap;\n",
              "    }\n",
              "  </style>\n",
              "  "
            ]
          },
          "metadata": {}
        },
        {
          "output_type": "display_data",
          "data": {
            "text/plain": [
              "<IPython.core.display.HTML object>"
            ],
            "text/html": [
              "\n",
              "  <style>\n",
              "    pre {\n",
              "        white-space: pre-wrap;\n",
              "    }\n",
              "  </style>\n",
              "  "
            ]
          },
          "metadata": {}
        },
        {
          "output_type": "execute_result",
          "data": {
            "text/plain": [
              "commentBody_processed    @Nikos: Before fire, there were no humans. Dai...\n",
              "final_score                                                        -0.6249\n",
              "Name: 0, dtype: object"
            ]
          },
          "metadata": {},
          "execution_count": 54
        }
      ]
    },
    {
      "cell_type": "code",
      "source": [
        "print(\"The mean of final sentiment score for current month is:\",data_cv.loc[:, 'final_score'].mean())"
      ],
      "metadata": {
        "colab": {
          "base_uri": "https://localhost:8080/",
          "height": 34
        },
        "id": "ZnlR4vb67Ujy",
        "outputId": "79c6ab4e-a11f-4068-a02f-dae3d9b68007"
      },
      "execution_count": 55,
      "outputs": [
        {
          "output_type": "display_data",
          "data": {
            "text/plain": [
              "<IPython.core.display.HTML object>"
            ],
            "text/html": [
              "\n",
              "  <style>\n",
              "    pre {\n",
              "        white-space: pre-wrap;\n",
              "    }\n",
              "  </style>\n",
              "  "
            ]
          },
          "metadata": {}
        },
        {
          "output_type": "display_data",
          "data": {
            "text/plain": [
              "<IPython.core.display.HTML object>"
            ],
            "text/html": [
              "\n",
              "  <style>\n",
              "    pre {\n",
              "        white-space: pre-wrap;\n",
              "    }\n",
              "  </style>\n",
              "  "
            ]
          },
          "metadata": {}
        },
        {
          "output_type": "stream",
          "name": "stdout",
          "text": [
            "The mean of final sentiment score for current month is: -0.003899999999999987\n"
          ]
        }
      ]
    }
  ],
  "metadata": {
    "colab": {
      "provenance": [],
      "machine_shape": "hm"
    },
    "kernelspec": {
      "display_name": "Python 3 (ipykernel)",
      "language": "python",
      "name": "python3"
    },
    "language_info": {
      "codemirror_mode": {
        "name": "ipython",
        "version": 3
      },
      "file_extension": ".py",
      "mimetype": "text/x-python",
      "name": "python",
      "nbconvert_exporter": "python",
      "pygments_lexer": "ipython3",
      "version": "3.10.6"
    },
    "accelerator": "GPU",
    "gpuClass": "premium"
  },
  "nbformat": 4,
  "nbformat_minor": 0
}